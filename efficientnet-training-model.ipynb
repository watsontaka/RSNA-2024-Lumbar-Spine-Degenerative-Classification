{
 "cells": [
  {
   "cell_type": "code",
   "execution_count": 1,
   "id": "49436284",
   "metadata": {
    "execution": {
     "iopub.execute_input": "2024-10-08T13:54:23.922198Z",
     "iopub.status.busy": "2024-10-08T13:54:23.921889Z",
     "iopub.status.idle": "2024-10-08T13:54:36.529670Z",
     "shell.execute_reply": "2024-10-08T13:54:36.528726Z"
    },
    "papermill": {
     "duration": 12.617042,
     "end_time": "2024-10-08T13:54:36.532038",
     "exception": false,
     "start_time": "2024-10-08T13:54:23.914996",
     "status": "completed"
    },
    "tags": []
   },
   "outputs": [],
   "source": [
    "import numpy as np\n",
    "\n",
    "import tensorflow as tf\n",
    "from tensorflow import keras\n",
    "from tensorflow.keras import *\n",
    "from tensorflow.keras.layers import *\n",
    "import tensorflow.keras.backend as K"
   ]
  },
  {
   "cell_type": "code",
   "execution_count": 2,
   "id": "79668112",
   "metadata": {
    "execution": {
     "iopub.execute_input": "2024-10-08T13:54:36.544322Z",
     "iopub.status.busy": "2024-10-08T13:54:36.543724Z",
     "iopub.status.idle": "2024-10-08T13:54:40.660080Z",
     "shell.execute_reply": "2024-10-08T13:54:40.659049Z"
    },
    "papermill": {
     "duration": 4.124768,
     "end_time": "2024-10-08T13:54:40.662444",
     "exception": false,
     "start_time": "2024-10-08T13:54:36.537676",
     "status": "completed"
    },
    "tags": []
   },
   "outputs": [],
   "source": [
    "Sagittal_T2 = np.load('/kaggle/input/image-extraction/SagittalT2.npz')\n",
    "\n",
    "x_train = Sagittal_T2['x'][:800]\n",
    "y_train = Sagittal_T2['y'][:800]\n",
    "\n",
    "x_test = Sagittal_T2['x'][800:1000]\n",
    "y_test = Sagittal_T2['y'][800:1000]"
   ]
  },
  {
   "cell_type": "code",
   "execution_count": 3,
   "id": "021cc12b",
   "metadata": {
    "execution": {
     "iopub.execute_input": "2024-10-08T13:54:40.674651Z",
     "iopub.status.busy": "2024-10-08T13:54:40.674118Z",
     "iopub.status.idle": "2024-10-08T13:54:40.683991Z",
     "shell.execute_reply": "2024-10-08T13:54:40.683175Z"
    },
    "papermill": {
     "duration": 0.017655,
     "end_time": "2024-10-08T13:54:40.685772",
     "exception": false,
     "start_time": "2024-10-08T13:54:40.668117",
     "status": "completed"
    },
    "tags": []
   },
   "outputs": [],
   "source": [
    "def mbconv_block(inputs, filters, kernel_size, strides, expansion_factor):\n",
    "    # Expansion phase\n",
    "    x = Conv2D(filters * expansion_factor, kernel_size=1, padding='same')(inputs)\n",
    "    x = BatchNormalization()(x)\n",
    "    x = Activation('swish')(x)\n",
    "    \n",
    "    # Depthwise convolution\n",
    "    x = DepthwiseConv2D(kernel_size, strides=strides, padding='same')(x)\n",
    "    x = BatchNormalization()(x)\n",
    "    x = Activation('swish')(x)\n",
    "    \n",
    "    # Projection phase\n",
    "    x = Conv2D(filters, kernel_size=1, padding='same')(x)\n",
    "    x = BatchNormalization()(x)\n",
    "    \n",
    "    # Skip connection if possible\n",
    "    if strides == 1 and inputs.shape[-1] == filters:\n",
    "        x = Add()([x, inputs])\n",
    "    \n",
    "    return x\n",
    "\n",
    "# カスタムEfficientNetモデル\n",
    "def efficientnet_custom(inputs):\n",
    "    \n",
    "    # 最初のConv層\n",
    "    x = Conv2D(32, kernel_size=3, strides=2, padding='same')(inputs)\n",
    "    x = BatchNormalization()(x)\n",
    "    x = Activation('swish')(x)\n",
    "    \n",
    "    # MBConvブロックをいくつか追加\n",
    "    x = mbconv_block(x, filters=16, kernel_size=3, strides=1, expansion_factor=1)\n",
    "    x = mbconv_block(x, filters=24, kernel_size=3, strides=2, expansion_factor=6)\n",
    "    x = mbconv_block(x, filters=40, kernel_size=5, strides=2, expansion_factor=6)\n",
    "    \n",
    "    x = GlobalAveragePooling2D()(x)\n",
    "    \n",
    "    return x"
   ]
  },
  {
   "cell_type": "code",
   "execution_count": 4,
   "id": "095b85fd",
   "metadata": {
    "execution": {
     "iopub.execute_input": "2024-10-08T13:54:40.697052Z",
     "iopub.status.busy": "2024-10-08T13:54:40.696718Z",
     "iopub.status.idle": "2024-10-08T13:54:40.702341Z",
     "shell.execute_reply": "2024-10-08T13:54:40.701537Z"
    },
    "papermill": {
     "duration": 0.013364,
     "end_time": "2024-10-08T13:54:40.704095",
     "exception": false,
     "start_time": "2024-10-08T13:54:40.690731",
     "status": "completed"
    },
    "tags": []
   },
   "outputs": [],
   "source": [
    "def Sagittal_T2_CNN(input_shape, r, c,):\n",
    "    \n",
    "    inputs = Input(shape=input_shape)\n",
    "    x = efficientnet_custom(inputs)\n",
    "    \n",
    "    x = Dense(128, activation='relu')(x)\n",
    "    x = layers.Dense(r*c, activation=None)(x)\n",
    "    x = layers.Reshape((r,c))(x)\n",
    "    \n",
    "    output = layers.Softmax(axis=-1)(x)\n",
    "    \n",
    "    model = models.Model(inputs=inputs, outputs=output)\n",
    "    \n",
    "    return model"
   ]
  },
  {
   "cell_type": "code",
   "execution_count": 5,
   "id": "587619ad",
   "metadata": {
    "execution": {
     "iopub.execute_input": "2024-10-08T13:54:40.715366Z",
     "iopub.status.busy": "2024-10-08T13:54:40.715086Z",
     "iopub.status.idle": "2024-10-08T13:54:41.597844Z",
     "shell.execute_reply": "2024-10-08T13:54:41.597037Z"
    },
    "papermill": {
     "duration": 0.890698,
     "end_time": "2024-10-08T13:54:41.600039",
     "exception": false,
     "start_time": "2024-10-08T13:54:40.709341",
     "status": "completed"
    },
    "tags": []
   },
   "outputs": [],
   "source": [
    "input_shape = (224, 224, 1)  # 画像のサイズ\n",
    "r, c = 5, 3  # クラス数\n",
    "\n",
    "scs_model = Sagittal_T2_CNN(input_shape, r, c)\n",
    "scs_model.compile(optimizer='adam',\n",
    "              loss='categorical_crossentropy',\n",
    "              metrics=['accuracy'])"
   ]
  },
  {
   "cell_type": "code",
   "execution_count": 6,
   "id": "78bd15eb",
   "metadata": {
    "execution": {
     "iopub.execute_input": "2024-10-08T13:54:41.612580Z",
     "iopub.status.busy": "2024-10-08T13:54:41.612290Z",
     "iopub.status.idle": "2024-10-08T13:55:44.748319Z",
     "shell.execute_reply": "2024-10-08T13:55:44.747291Z"
    },
    "papermill": {
     "duration": 63.145069,
     "end_time": "2024-10-08T13:55:44.750575",
     "exception": false,
     "start_time": "2024-10-08T13:54:41.605506",
     "status": "completed"
    },
    "tags": []
   },
   "outputs": [
    {
     "name": "stdout",
     "output_type": "stream",
     "text": [
      "Epoch 1/30\n"
     ]
    },
    {
     "name": "stderr",
     "output_type": "stream",
     "text": [
      "WARNING: All log messages before absl::InitializeLog() is called are written to STDERR\n",
      "I0000 00:00:1728395688.169606      64 service.cc:145] XLA service 0x7e8660011100 initialized for platform CUDA (this does not guarantee that XLA will be used). Devices:\n",
      "I0000 00:00:1728395688.169677      64 service.cc:153]   StreamExecutor device (0): Tesla P100-PCIE-16GB, Compute Capability 6.0\n"
     ]
    },
    {
     "name": "stdout",
     "output_type": "stream",
     "text": [
      "\u001b[1m 3/25\u001b[0m \u001b[32m━━\u001b[0m\u001b[37m━━━━━━━━━━━━━━━━━━\u001b[0m \u001b[1m1s\u001b[0m 60ms/step - accuracy: 0.3101 - loss: 1.1006"
     ]
    },
    {
     "name": "stderr",
     "output_type": "stream",
     "text": [
      "I0000 00:00:1728395696.654798      64 device_compiler.h:188] Compiled cluster using XLA!  This line is logged at most once for the lifetime of the process.\n"
     ]
    },
    {
     "name": "stdout",
     "output_type": "stream",
     "text": [
      "\u001b[1m25/25\u001b[0m \u001b[32m━━━━━━━━━━━━━━━━━━━━\u001b[0m\u001b[37m\u001b[0m \u001b[1m18s\u001b[0m 146ms/step - accuracy: 0.6638 - loss: 0.9458 - val_accuracy: 0.8890 - val_loss: 0.9496\n",
      "Epoch 2/30\n",
      "\u001b[1m25/25\u001b[0m \u001b[32m━━━━━━━━━━━━━━━━━━━━\u001b[0m\u001b[37m\u001b[0m \u001b[1m1s\u001b[0m 59ms/step - accuracy: 0.8829 - loss: 0.5244 - val_accuracy: 0.8890 - val_loss: 0.7586\n",
      "Epoch 3/30\n",
      "\u001b[1m25/25\u001b[0m \u001b[32m━━━━━━━━━━━━━━━━━━━━\u001b[0m\u001b[37m\u001b[0m \u001b[1m2s\u001b[0m 59ms/step - accuracy: 0.8814 - loss: 0.4328 - val_accuracy: 0.8890 - val_loss: 0.6151\n",
      "Epoch 4/30\n",
      "\u001b[1m25/25\u001b[0m \u001b[32m━━━━━━━━━━━━━━━━━━━━\u001b[0m\u001b[37m\u001b[0m \u001b[1m2s\u001b[0m 60ms/step - accuracy: 0.8764 - loss: 0.4154 - val_accuracy: 0.8890 - val_loss: 0.5224\n",
      "Epoch 5/30\n",
      "\u001b[1m25/25\u001b[0m \u001b[32m━━━━━━━━━━━━━━━━━━━━\u001b[0m\u001b[37m\u001b[0m \u001b[1m2s\u001b[0m 60ms/step - accuracy: 0.8918 - loss: 0.3623 - val_accuracy: 0.8890 - val_loss: 0.4813\n",
      "Epoch 6/30\n",
      "\u001b[1m25/25\u001b[0m \u001b[32m━━━━━━━━━━━━━━━━━━━━\u001b[0m\u001b[37m\u001b[0m \u001b[1m1s\u001b[0m 59ms/step - accuracy: 0.8786 - loss: 0.3794 - val_accuracy: 0.8890 - val_loss: 0.4505\n",
      "Epoch 7/30\n",
      "\u001b[1m25/25\u001b[0m \u001b[32m━━━━━━━━━━━━━━━━━━━━\u001b[0m\u001b[37m\u001b[0m \u001b[1m1s\u001b[0m 59ms/step - accuracy: 0.8876 - loss: 0.3540 - val_accuracy: 0.8890 - val_loss: 0.4291\n",
      "Epoch 8/30\n",
      "\u001b[1m25/25\u001b[0m \u001b[32m━━━━━━━━━━━━━━━━━━━━\u001b[0m\u001b[37m\u001b[0m \u001b[1m1s\u001b[0m 59ms/step - accuracy: 0.8790 - loss: 0.3637 - val_accuracy: 0.8890 - val_loss: 0.4360\n",
      "Epoch 9/30\n",
      "\u001b[1m25/25\u001b[0m \u001b[32m━━━━━━━━━━━━━━━━━━━━\u001b[0m\u001b[37m\u001b[0m \u001b[1m1s\u001b[0m 59ms/step - accuracy: 0.8801 - loss: 0.3456 - val_accuracy: 0.8890 - val_loss: 0.4364\n",
      "Epoch 10/30\n",
      "\u001b[1m25/25\u001b[0m \u001b[32m━━━━━━━━━━━━━━━━━━━━\u001b[0m\u001b[37m\u001b[0m \u001b[1m1s\u001b[0m 59ms/step - accuracy: 0.8856 - loss: 0.3274 - val_accuracy: 0.8890 - val_loss: 0.4624\n",
      "Epoch 11/30\n",
      "\u001b[1m25/25\u001b[0m \u001b[32m━━━━━━━━━━━━━━━━━━━━\u001b[0m\u001b[37m\u001b[0m \u001b[1m2s\u001b[0m 60ms/step - accuracy: 0.8832 - loss: 0.3328 - val_accuracy: 0.8890 - val_loss: 0.4819\n",
      "Epoch 12/30\n",
      "\u001b[1m25/25\u001b[0m \u001b[32m━━━━━━━━━━━━━━━━━━━━\u001b[0m\u001b[37m\u001b[0m \u001b[1m1s\u001b[0m 59ms/step - accuracy: 0.8781 - loss: 0.3399 - val_accuracy: 0.8890 - val_loss: 0.5117\n",
      "Epoch 13/30\n",
      "\u001b[1m25/25\u001b[0m \u001b[32m━━━━━━━━━━━━━━━━━━━━\u001b[0m\u001b[37m\u001b[0m \u001b[1m1s\u001b[0m 59ms/step - accuracy: 0.8835 - loss: 0.3231 - val_accuracy: 0.8890 - val_loss: 0.5279\n",
      "Epoch 14/30\n",
      "\u001b[1m25/25\u001b[0m \u001b[32m━━━━━━━━━━━━━━━━━━━━\u001b[0m\u001b[37m\u001b[0m \u001b[1m2s\u001b[0m 59ms/step - accuracy: 0.8774 - loss: 0.3128 - val_accuracy: 0.8890 - val_loss: 0.5778\n",
      "Epoch 15/30\n",
      "\u001b[1m25/25\u001b[0m \u001b[32m━━━━━━━━━━━━━━━━━━━━\u001b[0m\u001b[37m\u001b[0m \u001b[1m2s\u001b[0m 60ms/step - accuracy: 0.8888 - loss: 0.2906 - val_accuracy: 0.8890 - val_loss: 0.5774\n",
      "Epoch 16/30\n",
      "\u001b[1m25/25\u001b[0m \u001b[32m━━━━━━━━━━━━━━━━━━━━\u001b[0m\u001b[37m\u001b[0m \u001b[1m1s\u001b[0m 59ms/step - accuracy: 0.8933 - loss: 0.2722 - val_accuracy: 0.8890 - val_loss: 0.5737\n",
      "Epoch 17/30\n",
      "\u001b[1m25/25\u001b[0m \u001b[32m━━━━━━━━━━━━━━━━━━━━\u001b[0m\u001b[37m\u001b[0m \u001b[1m1s\u001b[0m 59ms/step - accuracy: 0.8911 - loss: 0.2897 - val_accuracy: 0.8890 - val_loss: 0.5800\n",
      "Epoch 18/30\n",
      "\u001b[1m25/25\u001b[0m \u001b[32m━━━━━━━━━━━━━━━━━━━━\u001b[0m\u001b[37m\u001b[0m \u001b[1m1s\u001b[0m 59ms/step - accuracy: 0.8942 - loss: 0.2758 - val_accuracy: 0.8890 - val_loss: 0.5986\n",
      "Epoch 19/30\n",
      "\u001b[1m25/25\u001b[0m \u001b[32m━━━━━━━━━━━━━━━━━━━━\u001b[0m\u001b[37m\u001b[0m \u001b[1m1s\u001b[0m 59ms/step - accuracy: 0.8951 - loss: 0.2617 - val_accuracy: 0.8890 - val_loss: 0.5281\n",
      "Epoch 20/30\n",
      "\u001b[1m25/25\u001b[0m \u001b[32m━━━━━━━━━━━━━━━━━━━━\u001b[0m\u001b[37m\u001b[0m \u001b[1m1s\u001b[0m 59ms/step - accuracy: 0.8959 - loss: 0.2614 - val_accuracy: 0.8890 - val_loss: 0.4979\n",
      "Epoch 21/30\n",
      "\u001b[1m25/25\u001b[0m \u001b[32m━━━━━━━━━━━━━━━━━━━━\u001b[0m\u001b[37m\u001b[0m \u001b[1m1s\u001b[0m 59ms/step - accuracy: 0.9043 - loss: 0.2478 - val_accuracy: 0.8870 - val_loss: 0.5253\n",
      "Epoch 22/30\n",
      "\u001b[1m25/25\u001b[0m \u001b[32m━━━━━━━━━━━━━━━━━━━━\u001b[0m\u001b[37m\u001b[0m \u001b[1m1s\u001b[0m 59ms/step - accuracy: 0.8959 - loss: 0.2707 - val_accuracy: 0.8910 - val_loss: 0.4412\n",
      "Epoch 23/30\n",
      "\u001b[1m25/25\u001b[0m \u001b[32m━━━━━━━━━━━━━━━━━━━━\u001b[0m\u001b[37m\u001b[0m \u001b[1m1s\u001b[0m 59ms/step - accuracy: 0.9091 - loss: 0.2389 - val_accuracy: 0.8680 - val_loss: 0.4640\n",
      "Epoch 24/30\n",
      "\u001b[1m25/25\u001b[0m \u001b[32m━━━━━━━━━━━━━━━━━━━━\u001b[0m\u001b[37m\u001b[0m \u001b[1m2s\u001b[0m 59ms/step - accuracy: 0.9129 - loss: 0.2245 - val_accuracy: 0.8900 - val_loss: 0.4225\n",
      "Epoch 25/30\n",
      "\u001b[1m25/25\u001b[0m \u001b[32m━━━━━━━━━━━━━━━━━━━━\u001b[0m\u001b[37m\u001b[0m \u001b[1m1s\u001b[0m 59ms/step - accuracy: 0.9050 - loss: 0.2384 - val_accuracy: 0.8490 - val_loss: 0.4202\n",
      "Epoch 26/30\n",
      "\u001b[1m25/25\u001b[0m \u001b[32m━━━━━━━━━━━━━━━━━━━━\u001b[0m\u001b[37m\u001b[0m \u001b[1m3s\u001b[0m 59ms/step - accuracy: 0.9113 - loss: 0.2257 - val_accuracy: 0.8610 - val_loss: 0.4139\n",
      "Epoch 27/30\n",
      "\u001b[1m25/25\u001b[0m \u001b[32m━━━━━━━━━━━━━━━━━━━━\u001b[0m\u001b[37m\u001b[0m \u001b[1m1s\u001b[0m 59ms/step - accuracy: 0.9117 - loss: 0.2287 - val_accuracy: 0.8690 - val_loss: 0.4260\n",
      "Epoch 28/30\n",
      "\u001b[1m25/25\u001b[0m \u001b[32m━━━━━━━━━━━━━━━━━━━━\u001b[0m\u001b[37m\u001b[0m \u001b[1m1s\u001b[0m 59ms/step - accuracy: 0.9207 - loss: 0.1983 - val_accuracy: 0.8080 - val_loss: 0.5068\n",
      "Epoch 29/30\n",
      "\u001b[1m25/25\u001b[0m \u001b[32m━━━━━━━━━━━━━━━━━━━━\u001b[0m\u001b[37m\u001b[0m \u001b[1m1s\u001b[0m 59ms/step - accuracy: 0.9184 - loss: 0.2001 - val_accuracy: 0.8410 - val_loss: 0.4778\n",
      "Epoch 30/30\n",
      "\u001b[1m25/25\u001b[0m \u001b[32m━━━━━━━━━━━━━━━━━━━━\u001b[0m\u001b[37m\u001b[0m \u001b[1m1s\u001b[0m 59ms/step - accuracy: 0.9191 - loss: 0.2037 - val_accuracy: 0.7600 - val_loss: 0.6664\n"
     ]
    }
   ],
   "source": [
    "history = scs_model.fit(x_train,y_train,\n",
    "                        epochs=30,batch_size=32,\n",
    "                        validation_data=(x_test,y_test))"
   ]
  },
  {
   "cell_type": "code",
   "execution_count": 7,
   "id": "e7e945c0",
   "metadata": {
    "execution": {
     "iopub.execute_input": "2024-10-08T13:55:44.888107Z",
     "iopub.status.busy": "2024-10-08T13:55:44.886958Z",
     "iopub.status.idle": "2024-10-08T13:55:46.123377Z",
     "shell.execute_reply": "2024-10-08T13:55:46.122395Z"
    },
    "papermill": {
     "duration": 1.306417,
     "end_time": "2024-10-08T13:55:46.125352",
     "exception": false,
     "start_time": "2024-10-08T13:55:44.818935",
     "status": "completed"
    },
    "tags": []
   },
   "outputs": [
    {
     "name": "stdout",
     "output_type": "stream",
     "text": [
      "\u001b[1m1/1\u001b[0m \u001b[32m━━━━━━━━━━━━━━━━━━━━\u001b[0m\u001b[37m\u001b[0m \u001b[1m1s\u001b[0m 1s/step\n"
     ]
    }
   ],
   "source": [
    "pred = scs_model.predict(x_train[:10])"
   ]
  },
  {
   "cell_type": "code",
   "execution_count": 8,
   "id": "430e68de",
   "metadata": {
    "execution": {
     "iopub.execute_input": "2024-10-08T13:55:46.263234Z",
     "iopub.status.busy": "2024-10-08T13:55:46.262856Z",
     "iopub.status.idle": "2024-10-08T13:55:46.270764Z",
     "shell.execute_reply": "2024-10-08T13:55:46.269805Z"
    },
    "papermill": {
     "duration": 0.079946,
     "end_time": "2024-10-08T13:55:46.272657",
     "exception": false,
     "start_time": "2024-10-08T13:55:46.192711",
     "status": "completed"
    },
    "tags": []
   },
   "outputs": [
    {
     "data": {
      "text/plain": [
       "array([1.        , 0.99999994, 1.        , 1.        , 0.99999994],\n",
       "      dtype=float32)"
      ]
     },
     "execution_count": 8,
     "metadata": {},
     "output_type": "execute_result"
    }
   ],
   "source": [
    "np.sum(pred[0],axis=1)"
   ]
  },
  {
   "cell_type": "code",
   "execution_count": 9,
   "id": "1ee3bf12",
   "metadata": {
    "execution": {
     "iopub.execute_input": "2024-10-08T13:55:46.409606Z",
     "iopub.status.busy": "2024-10-08T13:55:46.408791Z",
     "iopub.status.idle": "2024-10-08T13:55:46.416358Z",
     "shell.execute_reply": "2024-10-08T13:55:46.415520Z"
    },
    "papermill": {
     "duration": 0.077983,
     "end_time": "2024-10-08T13:55:46.418242",
     "exception": false,
     "start_time": "2024-10-08T13:55:46.340259",
     "status": "completed"
    },
    "tags": []
   },
   "outputs": [],
   "source": [
    "def Axial_T2_CNN(input_shape, r, c):\n",
    "    \n",
    "    inputs = Input(shape=input_shape)\n",
    "    x = efficientnet_custom(inputs)\n",
    "    \n",
    "    xL = Dense(128, activation='relu')(x)\n",
    "    xL = layers.Dense(r*c, activation=None)(x)\n",
    "    xL = layers.Reshape((r,c))(xL)\n",
    "    \n",
    "    outputL = layers.Softmax(axis=-1, name='Left' )(xL)\n",
    "    \n",
    "    \n",
    "    xR = Dense(128, activation='relu')(x)\n",
    "    xR = layers.Dense(r*c, activation=None)(x)\n",
    "    xR = layers.Reshape((r,c))(xR)\n",
    "    \n",
    "    outputR = layers.Softmax(axis=-1, name='Right')(xR)\n",
    "    \n",
    "    model = models.Model(inputs=inputs, outputs=[outputL,outputR])\n",
    "    \n",
    "    return model"
   ]
  },
  {
   "cell_type": "code",
   "execution_count": 10,
   "id": "79069464",
   "metadata": {
    "execution": {
     "iopub.execute_input": "2024-10-08T13:55:46.554264Z",
     "iopub.status.busy": "2024-10-08T13:55:46.553951Z",
     "iopub.status.idle": "2024-10-08T13:56:21.796385Z",
     "shell.execute_reply": "2024-10-08T13:56:21.795305Z"
    },
    "papermill": {
     "duration": 35.313201,
     "end_time": "2024-10-08T13:56:21.798702",
     "exception": false,
     "start_time": "2024-10-08T13:55:46.485501",
     "status": "completed"
    },
    "tags": []
   },
   "outputs": [],
   "source": [
    "Axial_T2 = np.load('/kaggle/input/image-extraction/axial_t2.npz')\n",
    "\n",
    "axial_train_x = Axial_T2['x'][:800]\n",
    "axialL_train_y = Axial_T2['y_left'][:800]\n",
    "axialR_train_y = Axial_T2['y_right'][:800]\n",
    "\n",
    "axial_test_x = Axial_T2['x'][800:1000]\n",
    "axialL_test_y = Axial_T2['y_left'][800:1000]\n",
    "axialR_test_y = Axial_T2['y_right'][800:1000]"
   ]
  },
  {
   "cell_type": "code",
   "execution_count": 11,
   "id": "8f6268dd",
   "metadata": {
    "execution": {
     "iopub.execute_input": "2024-10-08T13:56:21.935248Z",
     "iopub.status.busy": "2024-10-08T13:56:21.934902Z",
     "iopub.status.idle": "2024-10-08T13:56:22.125668Z",
     "shell.execute_reply": "2024-10-08T13:56:22.124722Z"
    },
    "papermill": {
     "duration": 0.261035,
     "end_time": "2024-10-08T13:56:22.127726",
     "exception": false,
     "start_time": "2024-10-08T13:56:21.866691",
     "status": "completed"
    },
    "tags": []
   },
   "outputs": [],
   "source": [
    "input_shape = (224, 224, 10)  # 画像のサイズ\n",
    "r, c = 5, 3  # クラス数\n",
    "\n",
    "ss_model = Axial_T2_CNN(input_shape, r, c)\n",
    "ss_model.compile(optimizer='adam',\n",
    "                 loss={'Left':'categorical_crossentropy',\n",
    "                       'Right':'categorical_crossentropy'},\n",
    "                 metrics={'Left':'accuracy',\n",
    "                          'Right':'accuracy'})"
   ]
  },
  {
   "cell_type": "code",
   "execution_count": 12,
   "id": "7d0aaf2c",
   "metadata": {
    "execution": {
     "iopub.execute_input": "2024-10-08T13:56:22.264361Z",
     "iopub.status.busy": "2024-10-08T13:56:22.264036Z",
     "iopub.status.idle": "2024-10-08T13:57:49.164961Z",
     "shell.execute_reply": "2024-10-08T13:57:49.163968Z"
    },
    "papermill": {
     "duration": 86.971594,
     "end_time": "2024-10-08T13:57:49.167030",
     "exception": false,
     "start_time": "2024-10-08T13:56:22.195436",
     "status": "completed"
    },
    "tags": []
   },
   "outputs": [
    {
     "name": "stdout",
     "output_type": "stream",
     "text": [
      "Epoch 1/30\n",
      "\u001b[1m25/25\u001b[0m \u001b[32m━━━━━━━━━━━━━━━━━━━━\u001b[0m\u001b[37m\u001b[0m \u001b[1m16s\u001b[0m 211ms/step - Left_accuracy: 0.4049 - Right_accuracy: 0.3964 - loss: 2.1892 - val_Left_accuracy: 0.5520 - val_Right_accuracy: 0.6260 - val_loss: 2.1056\n",
      "Epoch 2/30\n",
      "\u001b[1m25/25\u001b[0m \u001b[32m━━━━━━━━━━━━━━━━━━━━\u001b[0m\u001b[37m\u001b[0m \u001b[1m2s\u001b[0m 88ms/step - Left_accuracy: 0.6128 - Right_accuracy: 0.6094 - loss: 2.0393 - val_Left_accuracy: 0.6480 - val_Right_accuracy: 0.6260 - val_loss: 1.9788\n",
      "Epoch 3/30\n",
      "\u001b[1m25/25\u001b[0m \u001b[32m━━━━━━━━━━━━━━━━━━━━\u001b[0m\u001b[37m\u001b[0m \u001b[1m2s\u001b[0m 88ms/step - Left_accuracy: 0.6745 - Right_accuracy: 0.6742 - loss: 1.8643 - val_Left_accuracy: 0.7560 - val_Right_accuracy: 0.7540 - val_loss: 1.7990\n",
      "Epoch 4/30\n",
      "\u001b[1m25/25\u001b[0m \u001b[32m━━━━━━━━━━━━━━━━━━━━\u001b[0m\u001b[37m\u001b[0m \u001b[1m2s\u001b[0m 88ms/step - Left_accuracy: 0.7324 - Right_accuracy: 0.7241 - loss: 1.6499 - val_Left_accuracy: 0.7560 - val_Right_accuracy: 0.7540 - val_loss: 1.5986\n",
      "Epoch 5/30\n",
      "\u001b[1m25/25\u001b[0m \u001b[32m━━━━━━━━━━━━━━━━━━━━\u001b[0m\u001b[37m\u001b[0m \u001b[1m2s\u001b[0m 88ms/step - Left_accuracy: 0.7484 - Right_accuracy: 0.7441 - loss: 1.4427 - val_Left_accuracy: 0.7560 - val_Right_accuracy: 0.7540 - val_loss: 1.4293\n",
      "Epoch 6/30\n",
      "\u001b[1m25/25\u001b[0m \u001b[32m━━━━━━━━━━━━━━━━━━━━\u001b[0m\u001b[37m\u001b[0m \u001b[1m2s\u001b[0m 88ms/step - Left_accuracy: 0.7458 - Right_accuracy: 0.7320 - loss: 1.3284 - val_Left_accuracy: 0.7560 - val_Right_accuracy: 0.7540 - val_loss: 1.3419\n",
      "Epoch 7/30\n",
      "\u001b[1m25/25\u001b[0m \u001b[32m━━━━━━━━━━━━━━━━━━━━\u001b[0m\u001b[37m\u001b[0m \u001b[1m2s\u001b[0m 88ms/step - Left_accuracy: 0.7306 - Right_accuracy: 0.7361 - loss: 1.2764 - val_Left_accuracy: 0.7560 - val_Right_accuracy: 0.7540 - val_loss: 1.3035\n",
      "Epoch 8/30\n",
      "\u001b[1m25/25\u001b[0m \u001b[32m━━━━━━━━━━━━━━━━━━━━\u001b[0m\u001b[37m\u001b[0m \u001b[1m2s\u001b[0m 89ms/step - Left_accuracy: 0.7571 - Right_accuracy: 0.7429 - loss: 1.2077 - val_Left_accuracy: 0.7560 - val_Right_accuracy: 0.7540 - val_loss: 1.2978\n",
      "Epoch 9/30\n",
      "\u001b[1m25/25\u001b[0m \u001b[32m━━━━━━━━━━━━━━━━━━━━\u001b[0m\u001b[37m\u001b[0m \u001b[1m2s\u001b[0m 88ms/step - Left_accuracy: 0.7660 - Right_accuracy: 0.7603 - loss: 1.1540 - val_Left_accuracy: 0.7560 - val_Right_accuracy: 0.7540 - val_loss: 1.2932\n",
      "Epoch 10/30\n",
      "\u001b[1m25/25\u001b[0m \u001b[32m━━━━━━━━━━━━━━━━━━━━\u001b[0m\u001b[37m\u001b[0m \u001b[1m2s\u001b[0m 87ms/step - Left_accuracy: 0.7675 - Right_accuracy: 0.7674 - loss: 1.1164 - val_Left_accuracy: 0.7560 - val_Right_accuracy: 0.7540 - val_loss: 1.2997\n",
      "Epoch 11/30\n",
      "\u001b[1m25/25\u001b[0m \u001b[32m━━━━━━━━━━━━━━━━━━━━\u001b[0m\u001b[37m\u001b[0m \u001b[1m2s\u001b[0m 88ms/step - Left_accuracy: 0.7766 - Right_accuracy: 0.7663 - loss: 1.0781 - val_Left_accuracy: 0.7560 - val_Right_accuracy: 0.7540 - val_loss: 1.3078\n",
      "Epoch 12/30\n",
      "\u001b[1m25/25\u001b[0m \u001b[32m━━━━━━━━━━━━━━━━━━━━\u001b[0m\u001b[37m\u001b[0m \u001b[1m2s\u001b[0m 88ms/step - Left_accuracy: 0.7950 - Right_accuracy: 0.7795 - loss: 1.0145 - val_Left_accuracy: 0.7560 - val_Right_accuracy: 0.7540 - val_loss: 1.3387\n",
      "Epoch 13/30\n",
      "\u001b[1m25/25\u001b[0m \u001b[32m━━━━━━━━━━━━━━━━━━━━\u001b[0m\u001b[37m\u001b[0m \u001b[1m2s\u001b[0m 88ms/step - Left_accuracy: 0.7859 - Right_accuracy: 0.7853 - loss: 1.0273 - val_Left_accuracy: 0.7560 - val_Right_accuracy: 0.7540 - val_loss: 1.3271\n",
      "Epoch 14/30\n",
      "\u001b[1m25/25\u001b[0m \u001b[32m━━━━━━━━━━━━━━━━━━━━\u001b[0m\u001b[37m\u001b[0m \u001b[1m2s\u001b[0m 90ms/step - Left_accuracy: 0.7918 - Right_accuracy: 0.7994 - loss: 0.9887 - val_Left_accuracy: 0.7560 - val_Right_accuracy: 0.7540 - val_loss: 1.3594\n",
      "Epoch 15/30\n",
      "\u001b[1m25/25\u001b[0m \u001b[32m━━━━━━━━━━━━━━━━━━━━\u001b[0m\u001b[37m\u001b[0m \u001b[1m2s\u001b[0m 88ms/step - Left_accuracy: 0.7938 - Right_accuracy: 0.8043 - loss: 0.9824 - val_Left_accuracy: 0.7560 - val_Right_accuracy: 0.7540 - val_loss: 1.3545\n",
      "Epoch 16/30\n",
      "\u001b[1m25/25\u001b[0m \u001b[32m━━━━━━━━━━━━━━━━━━━━\u001b[0m\u001b[37m\u001b[0m \u001b[1m2s\u001b[0m 88ms/step - Left_accuracy: 0.8036 - Right_accuracy: 0.8131 - loss: 0.9436 - val_Left_accuracy: 0.7560 - val_Right_accuracy: 0.7000 - val_loss: 1.3444\n",
      "Epoch 17/30\n",
      "\u001b[1m25/25\u001b[0m \u001b[32m━━━━━━━━━━━━━━━━━━━━\u001b[0m\u001b[37m\u001b[0m \u001b[1m2s\u001b[0m 89ms/step - Left_accuracy: 0.8249 - Right_accuracy: 0.8234 - loss: 0.8885 - val_Left_accuracy: 0.7560 - val_Right_accuracy: 0.7540 - val_loss: 1.3970\n",
      "Epoch 18/30\n",
      "\u001b[1m25/25\u001b[0m \u001b[32m━━━━━━━━━━━━━━━━━━━━\u001b[0m\u001b[37m\u001b[0m \u001b[1m2s\u001b[0m 89ms/step - Left_accuracy: 0.8027 - Right_accuracy: 0.8100 - loss: 0.9107 - val_Left_accuracy: 0.7560 - val_Right_accuracy: 0.7250 - val_loss: 1.3978\n",
      "Epoch 19/30\n",
      "\u001b[1m25/25\u001b[0m \u001b[32m━━━━━━━━━━━━━━━━━━━━\u001b[0m\u001b[37m\u001b[0m \u001b[1m2s\u001b[0m 88ms/step - Left_accuracy: 0.8131 - Right_accuracy: 0.8294 - loss: 0.8785 - val_Left_accuracy: 0.7560 - val_Right_accuracy: 0.7480 - val_loss: 1.3913\n",
      "Epoch 20/30\n",
      "\u001b[1m25/25\u001b[0m \u001b[32m━━━━━━━━━━━━━━━━━━━━\u001b[0m\u001b[37m\u001b[0m \u001b[1m2s\u001b[0m 88ms/step - Left_accuracy: 0.8165 - Right_accuracy: 0.8282 - loss: 0.8552 - val_Left_accuracy: 0.7560 - val_Right_accuracy: 0.7200 - val_loss: 1.3362\n",
      "Epoch 21/30\n",
      "\u001b[1m25/25\u001b[0m \u001b[32m━━━━━━━━━━━━━━━━━━━━\u001b[0m\u001b[37m\u001b[0m \u001b[1m2s\u001b[0m 88ms/step - Left_accuracy: 0.8299 - Right_accuracy: 0.8351 - loss: 0.8191 - val_Left_accuracy: 0.7560 - val_Right_accuracy: 0.7190 - val_loss: 1.4151\n",
      "Epoch 22/30\n",
      "\u001b[1m25/25\u001b[0m \u001b[32m━━━━━━━━━━━━━━━━━━━━\u001b[0m\u001b[37m\u001b[0m \u001b[1m2s\u001b[0m 88ms/step - Left_accuracy: 0.8345 - Right_accuracy: 0.8365 - loss: 0.8238 - val_Left_accuracy: 0.7460 - val_Right_accuracy: 0.6950 - val_loss: 1.3126\n",
      "Epoch 23/30\n",
      "\u001b[1m25/25\u001b[0m \u001b[32m━━━━━━━━━━━━━━━━━━━━\u001b[0m\u001b[37m\u001b[0m \u001b[1m2s\u001b[0m 88ms/step - Left_accuracy: 0.8435 - Right_accuracy: 0.8463 - loss: 0.7646 - val_Left_accuracy: 0.7250 - val_Right_accuracy: 0.6620 - val_loss: 1.3597\n",
      "Epoch 24/30\n",
      "\u001b[1m25/25\u001b[0m \u001b[32m━━━━━━━━━━━━━━━━━━━━\u001b[0m\u001b[37m\u001b[0m \u001b[1m2s\u001b[0m 88ms/step - Left_accuracy: 0.8396 - Right_accuracy: 0.8459 - loss: 0.7860 - val_Left_accuracy: 0.7530 - val_Right_accuracy: 0.7070 - val_loss: 1.3346\n",
      "Epoch 25/30\n",
      "\u001b[1m25/25\u001b[0m \u001b[32m━━━━━━━━━━━━━━━━━━━━\u001b[0m\u001b[37m\u001b[0m \u001b[1m2s\u001b[0m 89ms/step - Left_accuracy: 0.8533 - Right_accuracy: 0.8588 - loss: 0.7430 - val_Left_accuracy: 0.7340 - val_Right_accuracy: 0.7210 - val_loss: 1.3290\n",
      "Epoch 26/30\n",
      "\u001b[1m25/25\u001b[0m \u001b[32m━━━━━━━━━━━━━━━━━━━━\u001b[0m\u001b[37m\u001b[0m \u001b[1m2s\u001b[0m 89ms/step - Left_accuracy: 0.8586 - Right_accuracy: 0.8577 - loss: 0.7351 - val_Left_accuracy: 0.7480 - val_Right_accuracy: 0.7190 - val_loss: 1.4143\n",
      "Epoch 27/30\n",
      "\u001b[1m25/25\u001b[0m \u001b[32m━━━━━━━━━━━━━━━━━━━━\u001b[0m\u001b[37m\u001b[0m \u001b[1m2s\u001b[0m 88ms/step - Left_accuracy: 0.8534 - Right_accuracy: 0.8548 - loss: 0.7430 - val_Left_accuracy: 0.7330 - val_Right_accuracy: 0.7150 - val_loss: 1.4105\n",
      "Epoch 28/30\n",
      "\u001b[1m25/25\u001b[0m \u001b[32m━━━━━━━━━━━━━━━━━━━━\u001b[0m\u001b[37m\u001b[0m \u001b[1m2s\u001b[0m 90ms/step - Left_accuracy: 0.8726 - Right_accuracy: 0.8705 - loss: 0.6810 - val_Left_accuracy: 0.7110 - val_Right_accuracy: 0.6920 - val_loss: 1.4018\n",
      "Epoch 29/30\n",
      "\u001b[1m25/25\u001b[0m \u001b[32m━━━━━━━━━━━━━━━━━━━━\u001b[0m\u001b[37m\u001b[0m \u001b[1m2s\u001b[0m 88ms/step - Left_accuracy: 0.8557 - Right_accuracy: 0.8651 - loss: 0.7144 - val_Left_accuracy: 0.7320 - val_Right_accuracy: 0.6980 - val_loss: 1.4841\n",
      "Epoch 30/30\n",
      "\u001b[1m25/25\u001b[0m \u001b[32m━━━━━━━━━━━━━━━━━━━━\u001b[0m\u001b[37m\u001b[0m \u001b[1m2s\u001b[0m 88ms/step - Left_accuracy: 0.8927 - Right_accuracy: 0.8838 - loss: 0.6238 - val_Left_accuracy: 0.7300 - val_Right_accuracy: 0.7240 - val_loss: 1.4949\n"
     ]
    },
    {
     "data": {
      "text/plain": [
       "<keras.src.callbacks.history.History at 0x7e86982997e0>"
      ]
     },
     "execution_count": 12,
     "metadata": {},
     "output_type": "execute_result"
    }
   ],
   "source": [
    "ss_model.fit(axial_train_x,{'Left':axialL_train_y,'Right':axialR_train_y},\n",
    "             epochs=30,batch_size=32,\n",
    "             validation_data=(axial_test_x,\n",
    "                              {'Left':axialL_test_y,\n",
    "                               'Right':axialR_test_y}\n",
    "                             ))"
   ]
  },
  {
   "cell_type": "code",
   "execution_count": 13,
   "id": "2dd90c36",
   "metadata": {
    "execution": {
     "iopub.execute_input": "2024-10-08T13:57:49.474112Z",
     "iopub.status.busy": "2024-10-08T13:57:49.473350Z",
     "iopub.status.idle": "2024-10-08T13:57:49.481525Z",
     "shell.execute_reply": "2024-10-08T13:57:49.480643Z"
    },
    "papermill": {
     "duration": 0.144057,
     "end_time": "2024-10-08T13:57:49.483454",
     "exception": false,
     "start_time": "2024-10-08T13:57:49.339397",
     "status": "completed"
    },
    "tags": []
   },
   "outputs": [],
   "source": [
    "def Saggital_T1_CNN(input_shape, r, c):\n",
    "    \n",
    "    inputsL = Input(shape=input_shape)\n",
    "    inputsR = Input(shape=input_shape)\n",
    "    xL = efficientnet_custom(inputsL)\n",
    "    xR = efficientnet_custom(inputsR)\n",
    "    \n",
    "    xL = Dense(128, activation='relu')(xL)\n",
    "    xL = layers.Dense(r*c, activation=None)(xL)\n",
    "    xL = layers.Reshape((r,c))(xL)\n",
    "    \n",
    "    outputL = layers.Softmax(axis=-1, name='Left' )(xL)\n",
    "    \n",
    "    \n",
    "    xR = Dense(128, activation='relu')(xR)\n",
    "    xR = layers.Dense(r*c, activation=None)(xR)\n",
    "    xR = layers.Reshape((r,c))(xR)\n",
    "    \n",
    "    outputR = layers.Softmax(axis=-1, name='Right')(xR)\n",
    "    \n",
    "    model = models.Model(inputs=[inputsL, inputsR], outputs=[outputL, outputR])\n",
    "    \n",
    "    return model"
   ]
  },
  {
   "cell_type": "code",
   "execution_count": 14,
   "id": "8feca7a7",
   "metadata": {
    "execution": {
     "iopub.execute_input": "2024-10-08T13:57:49.759310Z",
     "iopub.status.busy": "2024-10-08T13:57:49.758990Z",
     "iopub.status.idle": "2024-10-08T13:57:50.096529Z",
     "shell.execute_reply": "2024-10-08T13:57:50.095725Z"
    },
    "papermill": {
     "duration": 0.481289,
     "end_time": "2024-10-08T13:57:50.098656",
     "exception": false,
     "start_time": "2024-10-08T13:57:49.617367",
     "status": "completed"
    },
    "tags": []
   },
   "outputs": [],
   "source": [
    "input_shape = (224, 224, 2)  # 画像のサイズ\n",
    "r, c = 5, 3  # クラス数\n",
    "\n",
    "nfn_model = Saggital_T1_CNN(input_shape, r, c)\n",
    "nfn_model.compile(optimizer='adam',\n",
    "                 loss={'Left':'categorical_crossentropy',\n",
    "                       'Right':'categorical_crossentropy'},\n",
    "                 metrics={'Left':'accuracy',\n",
    "                          'Right':'accuracy'})"
   ]
  },
  {
   "cell_type": "code",
   "execution_count": 15,
   "id": "3870e366",
   "metadata": {
    "execution": {
     "iopub.execute_input": "2024-10-08T13:57:50.365175Z",
     "iopub.status.busy": "2024-10-08T13:57:50.364487Z",
     "iopub.status.idle": "2024-10-08T13:58:04.777772Z",
     "shell.execute_reply": "2024-10-08T13:58:04.776665Z"
    },
    "papermill": {
     "duration": 14.548102,
     "end_time": "2024-10-08T13:58:04.780204",
     "exception": false,
     "start_time": "2024-10-08T13:57:50.232102",
     "status": "completed"
    },
    "tags": []
   },
   "outputs": [],
   "source": [
    "Saggital_T1L = np.load('/kaggle/input/image-extraction/left_sagittal_t1.npz')\n",
    "Saggital_T1R = np.load('/kaggle/input/image-extraction/right_sagittal_t1.npz')\n",
    "\n",
    "saggitalT1L_train_x = Saggital_T1L['x'][:800]\n",
    "saggitalT1L_train_y = Saggital_T1L['y'][:800]\n",
    "\n",
    "saggitalT1L_test_x = Saggital_T1L['x'][800:1000]\n",
    "saggitalT1L_test_y = Saggital_T1L['y'][800:1000]\n",
    "\n",
    "saggitalT1R_train_x = Saggital_T1R['x'][:800]\n",
    "saggitalT1R_train_y = Saggital_T1R['y'][:800]\n",
    "\n",
    "saggitalT1R_test_x = Saggital_T1R['x'][800:1000]\n",
    "saggitalT1R_test_y = Saggital_T1R['y'][800:1000]"
   ]
  },
  {
   "cell_type": "code",
   "execution_count": 16,
   "id": "3563aa16",
   "metadata": {
    "execution": {
     "iopub.execute_input": "2024-10-08T13:58:05.047784Z",
     "iopub.status.busy": "2024-10-08T13:58:05.047093Z",
     "iopub.status.idle": "2024-10-08T14:00:00.774823Z",
     "shell.execute_reply": "2024-10-08T14:00:00.773833Z"
    },
    "papermill": {
     "duration": 115.862826,
     "end_time": "2024-10-08T14:00:00.777034",
     "exception": false,
     "start_time": "2024-10-08T13:58:04.914208",
     "status": "completed"
    },
    "tags": []
   },
   "outputs": [
    {
     "name": "stdout",
     "output_type": "stream",
     "text": [
      "Epoch 1/30\n",
      "\u001b[1m25/25\u001b[0m \u001b[32m━━━━━━━━━━━━━━━━━━━━\u001b[0m\u001b[37m\u001b[0m \u001b[1m25s\u001b[0m 241ms/step - Left_accuracy: 0.5304 - Right_accuracy: 0.5613 - loss: 2.0287 - val_Left_accuracy: 0.7880 - val_Right_accuracy: 0.7920 - val_loss: 1.8431\n",
      "Epoch 2/30\n",
      "\u001b[1m25/25\u001b[0m \u001b[32m━━━━━━━━━━━━━━━━━━━━\u001b[0m\u001b[37m\u001b[0m \u001b[1m3s\u001b[0m 121ms/step - Left_accuracy: 0.7863 - Right_accuracy: 0.7856 - loss: 1.3712 - val_Left_accuracy: 0.7880 - val_Right_accuracy: 0.7920 - val_loss: 1.3229\n",
      "Epoch 3/30\n",
      "\u001b[1m25/25\u001b[0m \u001b[32m━━━━━━━━━━━━━━━━━━━━\u001b[0m\u001b[37m\u001b[0m \u001b[1m3s\u001b[0m 121ms/step - Left_accuracy: 0.7835 - Right_accuracy: 0.8020 - loss: 1.1909 - val_Left_accuracy: 0.7880 - val_Right_accuracy: 0.7920 - val_loss: 1.1236\n",
      "Epoch 4/30\n",
      "\u001b[1m25/25\u001b[0m \u001b[32m━━━━━━━━━━━━━━━━━━━━\u001b[0m\u001b[37m\u001b[0m \u001b[1m3s\u001b[0m 121ms/step - Left_accuracy: 0.7859 - Right_accuracy: 0.7975 - loss: 1.1545 - val_Left_accuracy: 0.7880 - val_Right_accuracy: 0.7920 - val_loss: 1.0761\n",
      "Epoch 5/30\n",
      "\u001b[1m25/25\u001b[0m \u001b[32m━━━━━━━━━━━━━━━━━━━━\u001b[0m\u001b[37m\u001b[0m \u001b[1m3s\u001b[0m 120ms/step - Left_accuracy: 0.7807 - Right_accuracy: 0.8034 - loss: 1.1024 - val_Left_accuracy: 0.7880 - val_Right_accuracy: 0.7920 - val_loss: 1.0843\n",
      "Epoch 6/30\n",
      "\u001b[1m25/25\u001b[0m \u001b[32m━━━━━━━━━━━━━━━━━━━━\u001b[0m\u001b[37m\u001b[0m \u001b[1m3s\u001b[0m 121ms/step - Left_accuracy: 0.7832 - Right_accuracy: 0.8040 - loss: 1.0543 - val_Left_accuracy: 0.7880 - val_Right_accuracy: 0.7920 - val_loss: 1.1207\n",
      "Epoch 7/30\n",
      "\u001b[1m25/25\u001b[0m \u001b[32m━━━━━━━━━━━━━━━━━━━━\u001b[0m\u001b[37m\u001b[0m \u001b[1m3s\u001b[0m 121ms/step - Left_accuracy: 0.7836 - Right_accuracy: 0.7895 - loss: 1.0617 - val_Left_accuracy: 0.7880 - val_Right_accuracy: 0.7920 - val_loss: 1.1899\n",
      "Epoch 8/30\n",
      "\u001b[1m25/25\u001b[0m \u001b[32m━━━━━━━━━━━━━━━━━━━━\u001b[0m\u001b[37m\u001b[0m \u001b[1m3s\u001b[0m 120ms/step - Left_accuracy: 0.7805 - Right_accuracy: 0.7836 - loss: 1.0659 - val_Left_accuracy: 0.7880 - val_Right_accuracy: 0.7920 - val_loss: 1.1994\n",
      "Epoch 9/30\n",
      "\u001b[1m25/25\u001b[0m \u001b[32m━━━━━━━━━━━━━━━━━━━━\u001b[0m\u001b[37m\u001b[0m \u001b[1m3s\u001b[0m 120ms/step - Left_accuracy: 0.7870 - Right_accuracy: 0.7861 - loss: 1.0472 - val_Left_accuracy: 0.7880 - val_Right_accuracy: 0.7920 - val_loss: 1.2500\n",
      "Epoch 10/30\n",
      "\u001b[1m25/25\u001b[0m \u001b[32m━━━━━━━━━━━━━━━━━━━━\u001b[0m\u001b[37m\u001b[0m \u001b[1m3s\u001b[0m 121ms/step - Left_accuracy: 0.7941 - Right_accuracy: 0.7970 - loss: 0.9878 - val_Left_accuracy: 0.7880 - val_Right_accuracy: 0.7920 - val_loss: 1.3002\n",
      "Epoch 11/30\n",
      "\u001b[1m25/25\u001b[0m \u001b[32m━━━━━━━━━━━━━━━━━━━━\u001b[0m\u001b[37m\u001b[0m \u001b[1m3s\u001b[0m 120ms/step - Left_accuracy: 0.7897 - Right_accuracy: 0.7938 - loss: 0.9681 - val_Left_accuracy: 0.7880 - val_Right_accuracy: 0.7920 - val_loss: 1.3247\n",
      "Epoch 12/30\n",
      "\u001b[1m25/25\u001b[0m \u001b[32m━━━━━━━━━━━━━━━━━━━━\u001b[0m\u001b[37m\u001b[0m \u001b[1m3s\u001b[0m 120ms/step - Left_accuracy: 0.7931 - Right_accuracy: 0.8031 - loss: 0.9479 - val_Left_accuracy: 0.7880 - val_Right_accuracy: 0.7920 - val_loss: 1.3224\n",
      "Epoch 13/30\n",
      "\u001b[1m25/25\u001b[0m \u001b[32m━━━━━━━━━━━━━━━━━━━━\u001b[0m\u001b[37m\u001b[0m \u001b[1m3s\u001b[0m 120ms/step - Left_accuracy: 0.8022 - Right_accuracy: 0.8047 - loss: 0.9190 - val_Left_accuracy: 0.7880 - val_Right_accuracy: 0.7920 - val_loss: 1.2426\n",
      "Epoch 14/30\n",
      "\u001b[1m25/25\u001b[0m \u001b[32m━━━━━━━━━━━━━━━━━━━━\u001b[0m\u001b[37m\u001b[0m \u001b[1m3s\u001b[0m 122ms/step - Left_accuracy: 0.8030 - Right_accuracy: 0.8038 - loss: 0.8858 - val_Left_accuracy: 0.7880 - val_Right_accuracy: 0.7920 - val_loss: 1.3230\n",
      "Epoch 15/30\n",
      "\u001b[1m25/25\u001b[0m \u001b[32m━━━━━━━━━━━━━━━━━━━━\u001b[0m\u001b[37m\u001b[0m \u001b[1m3s\u001b[0m 120ms/step - Left_accuracy: 0.8062 - Right_accuracy: 0.8068 - loss: 0.8812 - val_Left_accuracy: 0.7880 - val_Right_accuracy: 0.7920 - val_loss: 1.1576\n",
      "Epoch 16/30\n",
      "\u001b[1m25/25\u001b[0m \u001b[32m━━━━━━━━━━━━━━━━━━━━\u001b[0m\u001b[37m\u001b[0m \u001b[1m3s\u001b[0m 122ms/step - Left_accuracy: 0.7937 - Right_accuracy: 0.8180 - loss: 0.8738 - val_Left_accuracy: 0.7880 - val_Right_accuracy: 0.7920 - val_loss: 1.3238\n",
      "Epoch 17/30\n",
      "\u001b[1m25/25\u001b[0m \u001b[32m━━━━━━━━━━━━━━━━━━━━\u001b[0m\u001b[37m\u001b[0m \u001b[1m3s\u001b[0m 121ms/step - Left_accuracy: 0.8153 - Right_accuracy: 0.8305 - loss: 0.7919 - val_Left_accuracy: 0.7880 - val_Right_accuracy: 0.7920 - val_loss: 1.2099\n",
      "Epoch 18/30\n",
      "\u001b[1m25/25\u001b[0m \u001b[32m━━━━━━━━━━━━━━━━━━━━\u001b[0m\u001b[37m\u001b[0m \u001b[1m3s\u001b[0m 122ms/step - Left_accuracy: 0.8281 - Right_accuracy: 0.8379 - loss: 0.7656 - val_Left_accuracy: 0.7930 - val_Right_accuracy: 0.7920 - val_loss: 1.1206\n",
      "Epoch 19/30\n",
      "\u001b[1m25/25\u001b[0m \u001b[32m━━━━━━━━━━━━━━━━━━━━\u001b[0m\u001b[37m\u001b[0m \u001b[1m3s\u001b[0m 121ms/step - Left_accuracy: 0.8311 - Right_accuracy: 0.8454 - loss: 0.7480 - val_Left_accuracy: 0.7780 - val_Right_accuracy: 0.7500 - val_loss: 1.1390\n",
      "Epoch 20/30\n",
      "\u001b[1m25/25\u001b[0m \u001b[32m━━━━━━━━━━━━━━━━━━━━\u001b[0m\u001b[37m\u001b[0m \u001b[1m3s\u001b[0m 122ms/step - Left_accuracy: 0.8481 - Right_accuracy: 0.8477 - loss: 0.7196 - val_Left_accuracy: 0.7890 - val_Right_accuracy: 0.7870 - val_loss: 1.1927\n",
      "Epoch 21/30\n",
      "\u001b[1m25/25\u001b[0m \u001b[32m━━━━━━━━━━━━━━━━━━━━\u001b[0m\u001b[37m\u001b[0m \u001b[1m3s\u001b[0m 121ms/step - Left_accuracy: 0.8561 - Right_accuracy: 0.8500 - loss: 0.7136 - val_Left_accuracy: 0.7950 - val_Right_accuracy: 0.7570 - val_loss: 1.1478\n",
      "Epoch 22/30\n",
      "\u001b[1m25/25\u001b[0m \u001b[32m━━━━━━━━━━━━━━━━━━━━\u001b[0m\u001b[37m\u001b[0m \u001b[1m3s\u001b[0m 122ms/step - Left_accuracy: 0.8525 - Right_accuracy: 0.8581 - loss: 0.6776 - val_Left_accuracy: 0.7860 - val_Right_accuracy: 0.7470 - val_loss: 1.2183\n",
      "Epoch 23/30\n",
      "\u001b[1m25/25\u001b[0m \u001b[32m━━━━━━━━━━━━━━━━━━━━\u001b[0m\u001b[37m\u001b[0m \u001b[1m3s\u001b[0m 121ms/step - Left_accuracy: 0.8502 - Right_accuracy: 0.8608 - loss: 0.6761 - val_Left_accuracy: 0.7530 - val_Right_accuracy: 0.7610 - val_loss: 1.1639\n",
      "Epoch 24/30\n",
      "\u001b[1m25/25\u001b[0m \u001b[32m━━━━━━━━━━━━━━━━━━━━\u001b[0m\u001b[37m\u001b[0m \u001b[1m3s\u001b[0m 121ms/step - Left_accuracy: 0.8617 - Right_accuracy: 0.8794 - loss: 0.6122 - val_Left_accuracy: 0.7000 - val_Right_accuracy: 0.7390 - val_loss: 1.2526\n",
      "Epoch 25/30\n",
      "\u001b[1m25/25\u001b[0m \u001b[32m━━━━━━━━━━━━━━━━━━━━\u001b[0m\u001b[37m\u001b[0m \u001b[1m3s\u001b[0m 120ms/step - Left_accuracy: 0.8677 - Right_accuracy: 0.8797 - loss: 0.6096 - val_Left_accuracy: 0.7710 - val_Right_accuracy: 0.7710 - val_loss: 1.3907\n",
      "Epoch 26/30\n",
      "\u001b[1m25/25\u001b[0m \u001b[32m━━━━━━━━━━━━━━━━━━━━\u001b[0m\u001b[37m\u001b[0m \u001b[1m3s\u001b[0m 121ms/step - Left_accuracy: 0.8714 - Right_accuracy: 0.8758 - loss: 0.6048 - val_Left_accuracy: 0.7800 - val_Right_accuracy: 0.7790 - val_loss: 1.2925\n",
      "Epoch 27/30\n",
      "\u001b[1m25/25\u001b[0m \u001b[32m━━━━━━━━━━━━━━━━━━━━\u001b[0m\u001b[37m\u001b[0m \u001b[1m3s\u001b[0m 123ms/step - Left_accuracy: 0.8653 - Right_accuracy: 0.8910 - loss: 0.5826 - val_Left_accuracy: 0.7610 - val_Right_accuracy: 0.7600 - val_loss: 1.4181\n",
      "Epoch 28/30\n",
      "\u001b[1m25/25\u001b[0m \u001b[32m━━━━━━━━━━━━━━━━━━━━\u001b[0m\u001b[37m\u001b[0m \u001b[1m3s\u001b[0m 122ms/step - Left_accuracy: 0.8676 - Right_accuracy: 0.8994 - loss: 0.5671 - val_Left_accuracy: 0.6430 - val_Right_accuracy: 0.7150 - val_loss: 1.7404\n",
      "Epoch 29/30\n",
      "\u001b[1m25/25\u001b[0m \u001b[32m━━━━━━━━━━━━━━━━━━━━\u001b[0m\u001b[37m\u001b[0m \u001b[1m3s\u001b[0m 121ms/step - Left_accuracy: 0.8709 - Right_accuracy: 0.9064 - loss: 0.5409 - val_Left_accuracy: 0.6620 - val_Right_accuracy: 0.7750 - val_loss: 1.7783\n",
      "Epoch 30/30\n",
      "\u001b[1m25/25\u001b[0m \u001b[32m━━━━━━━━━━━━━━━━━━━━\u001b[0m\u001b[37m\u001b[0m \u001b[1m3s\u001b[0m 122ms/step - Left_accuracy: 0.8795 - Right_accuracy: 0.9219 - loss: 0.4973 - val_Left_accuracy: 0.7620 - val_Right_accuracy: 0.7320 - val_loss: 1.6870\n"
     ]
    },
    {
     "data": {
      "text/plain": [
       "<keras.src.callbacks.history.History at 0x7e8668e0a170>"
      ]
     },
     "execution_count": 16,
     "metadata": {},
     "output_type": "execute_result"
    }
   ],
   "source": [
    "nfn_model.fit([saggitalT1L_train_x,saggitalT1R_train_x],{'Left':saggitalT1L_train_y,'Right':saggitalT1R_train_y},\n",
    "             epochs=30,batch_size=32,\n",
    "             validation_data=([saggitalT1L_test_x,saggitalT1R_test_x],{'Left':saggitalT1L_test_y,'Right':saggitalT1R_test_y}))"
   ]
  },
  {
   "cell_type": "code",
   "execution_count": 17,
   "id": "bf305557",
   "metadata": {
    "execution": {
     "iopub.execute_input": "2024-10-08T14:00:01.173556Z",
     "iopub.status.busy": "2024-10-08T14:00:01.172670Z",
     "iopub.status.idle": "2024-10-08T14:00:01.632984Z",
     "shell.execute_reply": "2024-10-08T14:00:01.632167Z"
    },
    "papermill": {
     "duration": 0.661752,
     "end_time": "2024-10-08T14:00:01.635320",
     "exception": false,
     "start_time": "2024-10-08T14:00:00.973568",
     "status": "completed"
    },
    "tags": []
   },
   "outputs": [],
   "source": [
    "scs_model.save('/kaggle/working/scs_model.h5')\n",
    "nfn_model.save('/kaggle/working/nfn_model.h5')\n",
    "ss_model.save('/kaggle/working/ss_model.h5')"
   ]
  }
 ],
 "metadata": {
  "kaggle": {
   "accelerator": "gpu",
   "dataSources": [
    {
     "databundleVersionId": 8561470,
     "sourceId": 71549,
     "sourceType": "competition"
    },
    {
     "sourceId": 198490495,
     "sourceType": "kernelVersion"
    }
   ],
   "dockerImageVersionId": 30776,
   "isGpuEnabled": true,
   "isInternetEnabled": true,
   "language": "python",
   "sourceType": "notebook"
  },
  "kernelspec": {
   "display_name": "Python 3",
   "language": "python",
   "name": "python3"
  },
  "language_info": {
   "codemirror_mode": {
    "name": "ipython",
    "version": 3
   },
   "file_extension": ".py",
   "mimetype": "text/x-python",
   "name": "python",
   "nbconvert_exporter": "python",
   "pygments_lexer": "ipython3",
   "version": "3.10.14"
  },
  "papermill": {
   "default_parameters": {},
   "duration": 343.810911,
   "end_time": "2024-10-08T14:00:05.043116",
   "environment_variables": {},
   "exception": null,
   "input_path": "__notebook__.ipynb",
   "output_path": "__notebook__.ipynb",
   "parameters": {},
   "start_time": "2024-10-08T13:54:21.232205",
   "version": "2.6.0"
  }
 },
 "nbformat": 4,
 "nbformat_minor": 5
}
