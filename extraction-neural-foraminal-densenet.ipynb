{
 "cells": [
  {
   "cell_type": "code",
   "execution_count": 1,
   "id": "fa1d59e0",
   "metadata": {
    "execution": {
     "iopub.execute_input": "2024-10-15T14:09:04.170782Z",
     "iopub.status.busy": "2024-10-15T14:09:04.169886Z",
     "iopub.status.idle": "2024-10-15T14:09:18.434250Z",
     "shell.execute_reply": "2024-10-15T14:09:18.433217Z"
    },
    "papermill": {
     "duration": 14.274305,
     "end_time": "2024-10-15T14:09:18.436753",
     "exception": false,
     "start_time": "2024-10-15T14:09:04.162448",
     "status": "completed"
    },
    "tags": []
   },
   "outputs": [
    {
     "name": "stdout",
     "output_type": "stream",
     "text": [
      "Collecting natsort\r\n",
      "  Downloading natsort-8.4.0-py3-none-any.whl.metadata (21 kB)\r\n",
      "Downloading natsort-8.4.0-py3-none-any.whl (38 kB)\r\n",
      "Installing collected packages: natsort\r\n",
      "Successfully installed natsort-8.4.0\r\n"
     ]
    }
   ],
   "source": [
    "!pip3 install natsort"
   ]
  },
  {
   "cell_type": "code",
   "execution_count": 2,
   "id": "d9804738",
   "metadata": {
    "execution": {
     "iopub.execute_input": "2024-10-15T14:09:18.449347Z",
     "iopub.status.busy": "2024-10-15T14:09:18.449011Z",
     "iopub.status.idle": "2024-10-15T14:09:32.403726Z",
     "shell.execute_reply": "2024-10-15T14:09:32.402897Z"
    },
    "papermill": {
     "duration": 13.963575,
     "end_time": "2024-10-15T14:09:32.406160",
     "exception": false,
     "start_time": "2024-10-15T14:09:18.442585",
     "status": "completed"
    },
    "tags": []
   },
   "outputs": [],
   "source": [
    "import numpy as np\n",
    "import pandas as pd\n",
    "import matplotlib.pyplot as plt\n",
    "from natsort import natsorted\n",
    "import os\n",
    "import glob\n",
    "import cv2\n",
    "import pydicom\n",
    "from tqdm import tqdm\n",
    "from sklearn.preprocessing import OneHotEncoder\n",
    "\n",
    "import tensorflow as tf\n",
    "from tensorflow.keras import *\n",
    "import tensorflow.keras.backend as K"
   ]
  },
  {
   "cell_type": "code",
   "execution_count": 3,
   "id": "1e5813b4",
   "metadata": {
    "execution": {
     "iopub.execute_input": "2024-10-15T14:09:32.419000Z",
     "iopub.status.busy": "2024-10-15T14:09:32.418152Z",
     "iopub.status.idle": "2024-10-15T14:09:32.723977Z",
     "shell.execute_reply": "2024-10-15T14:09:32.723171Z"
    },
    "papermill": {
     "duration": 0.314363,
     "end_time": "2024-10-15T14:09:32.726205",
     "exception": false,
     "start_time": "2024-10-15T14:09:32.411842",
     "status": "completed"
    },
    "tags": []
   },
   "outputs": [],
   "source": [
    "train = pd.read_csv('/kaggle/input/rsna-dataframe/train_data.csv')\n",
    "train = train.astype({'study_id':'str','series_id':'str','instance_number':'str'})\n",
    "train_des = pd.read_csv('/kaggle/input/rsna-dataframe/train_des.csv')\n",
    "train_des = train_des.astype({'study_id':'str','series_id':'str'})"
   ]
  },
  {
   "cell_type": "code",
   "execution_count": 4,
   "id": "1fdc900c",
   "metadata": {
    "execution": {
     "iopub.execute_input": "2024-10-15T14:09:32.738665Z",
     "iopub.status.busy": "2024-10-15T14:09:32.737976Z",
     "iopub.status.idle": "2024-10-15T14:09:32.753717Z",
     "shell.execute_reply": "2024-10-15T14:09:32.752836Z"
    },
    "papermill": {
     "duration": 0.024233,
     "end_time": "2024-10-15T14:09:32.755869",
     "exception": false,
     "start_time": "2024-10-15T14:09:32.731636",
     "status": "completed"
    },
    "tags": []
   },
   "outputs": [
    {
     "data": {
      "text/html": [
       "<div>\n",
       "<style scoped>\n",
       "    .dataframe tbody tr th:only-of-type {\n",
       "        vertical-align: middle;\n",
       "    }\n",
       "\n",
       "    .dataframe tbody tr th {\n",
       "        vertical-align: top;\n",
       "    }\n",
       "\n",
       "    .dataframe thead th {\n",
       "        text-align: right;\n",
       "    }\n",
       "</style>\n",
       "<table border=\"1\" class=\"dataframe\">\n",
       "  <thead>\n",
       "    <tr style=\"text-align: right;\">\n",
       "      <th></th>\n",
       "      <th>study_id</th>\n",
       "      <th>series_id</th>\n",
       "      <th>series_description</th>\n",
       "    </tr>\n",
       "  </thead>\n",
       "  <tbody>\n",
       "    <tr>\n",
       "      <th>0</th>\n",
       "      <td>100206310</td>\n",
       "      <td>1792451510</td>\n",
       "      <td>Sagittal T2/STIR</td>\n",
       "    </tr>\n",
       "    <tr>\n",
       "      <th>1</th>\n",
       "      <td>100206310</td>\n",
       "      <td>2092806862</td>\n",
       "      <td>Sagittal T1</td>\n",
       "    </tr>\n",
       "    <tr>\n",
       "      <th>2</th>\n",
       "      <td>100206310</td>\n",
       "      <td>1012284084</td>\n",
       "      <td>Axial T2</td>\n",
       "    </tr>\n",
       "    <tr>\n",
       "      <th>3</th>\n",
       "      <td>1002894806</td>\n",
       "      <td>801316590</td>\n",
       "      <td>Sagittal T2/STIR</td>\n",
       "    </tr>\n",
       "    <tr>\n",
       "      <th>4</th>\n",
       "      <td>1002894806</td>\n",
       "      <td>866293114</td>\n",
       "      <td>Sagittal T1</td>\n",
       "    </tr>\n",
       "    <tr>\n",
       "      <th>...</th>\n",
       "      <td>...</td>\n",
       "      <td>...</td>\n",
       "      <td>...</td>\n",
       "    </tr>\n",
       "    <tr>\n",
       "      <th>5362</th>\n",
       "      <td>991428866</td>\n",
       "      <td>2954790819</td>\n",
       "      <td>Sagittal T1</td>\n",
       "    </tr>\n",
       "    <tr>\n",
       "      <th>5363</th>\n",
       "      <td>991428866</td>\n",
       "      <td>3160509931</td>\n",
       "      <td>Axial T2</td>\n",
       "    </tr>\n",
       "    <tr>\n",
       "      <th>5364</th>\n",
       "      <td>992674144</td>\n",
       "      <td>1576603050</td>\n",
       "      <td>Sagittal T2/STIR</td>\n",
       "    </tr>\n",
       "    <tr>\n",
       "      <th>5365</th>\n",
       "      <td>992674144</td>\n",
       "      <td>1814811290</td>\n",
       "      <td>Sagittal T1</td>\n",
       "    </tr>\n",
       "    <tr>\n",
       "      <th>5366</th>\n",
       "      <td>992674144</td>\n",
       "      <td>1614310972</td>\n",
       "      <td>Axial T2</td>\n",
       "    </tr>\n",
       "  </tbody>\n",
       "</table>\n",
       "<p>5367 rows × 3 columns</p>\n",
       "</div>"
      ],
      "text/plain": [
       "        study_id   series_id series_description\n",
       "0      100206310  1792451510   Sagittal T2/STIR\n",
       "1      100206310  2092806862        Sagittal T1\n",
       "2      100206310  1012284084           Axial T2\n",
       "3     1002894806   801316590   Sagittal T2/STIR\n",
       "4     1002894806   866293114        Sagittal T1\n",
       "...          ...         ...                ...\n",
       "5362   991428866  2954790819        Sagittal T1\n",
       "5363   991428866  3160509931           Axial T2\n",
       "5364   992674144  1576603050   Sagittal T2/STIR\n",
       "5365   992674144  1814811290        Sagittal T1\n",
       "5366   992674144  1614310972           Axial T2\n",
       "\n",
       "[5367 rows x 3 columns]"
      ]
     },
     "execution_count": 4,
     "metadata": {},
     "output_type": "execute_result"
    }
   ],
   "source": [
    "train_des"
   ]
  },
  {
   "cell_type": "code",
   "execution_count": 5,
   "id": "16fc4f34",
   "metadata": {
    "execution": {
     "iopub.execute_input": "2024-10-15T14:09:32.768310Z",
     "iopub.status.busy": "2024-10-15T14:09:32.768002Z",
     "iopub.status.idle": "2024-10-15T14:09:32.776843Z",
     "shell.execute_reply": "2024-10-15T14:09:32.776097Z"
    },
    "papermill": {
     "duration": 0.017115,
     "end_time": "2024-10-15T14:09:32.778712",
     "exception": false,
     "start_time": "2024-10-15T14:09:32.761597",
     "status": "completed"
    },
    "tags": []
   },
   "outputs": [],
   "source": [
    "base_dir = '/kaggle/input/rsna-2024-lumbar-spine-degenerative-classification/train_images'\n",
    "SagittalT1 = train_des[train_des['series_description']=='Sagittal T1'].reset_index(drop=True)\n",
    "SagittalT1_path = base_dir + '/' + SagittalT1['study_id'] + '/' + SagittalT1['series_id'] + '/*.dcm'"
   ]
  },
  {
   "cell_type": "code",
   "execution_count": 6,
   "id": "bd6be4d3",
   "metadata": {
    "execution": {
     "iopub.execute_input": "2024-10-15T14:09:32.790783Z",
     "iopub.status.busy": "2024-10-15T14:09:32.790473Z",
     "iopub.status.idle": "2024-10-15T14:09:32.799957Z",
     "shell.execute_reply": "2024-10-15T14:09:32.799148Z"
    },
    "papermill": {
     "duration": 0.017537,
     "end_time": "2024-10-15T14:09:32.801704",
     "exception": false,
     "start_time": "2024-10-15T14:09:32.784167",
     "status": "completed"
    },
    "tags": []
   },
   "outputs": [],
   "source": [
    "def load_images(dir_path, s=0, ends=100):\n",
    "    \n",
    "    images = []\n",
    "    path_list = []\n",
    "    \n",
    "    for p in tqdm(dir_path[s:ends]):\n",
    "        path = natsorted(glob.glob(p))\n",
    "        path_list += path\n",
    "        \n",
    "        for im in path:\n",
    "            dcm = pydicom.dcmread(im)\n",
    "            dcm = dcm.pixel_array\n",
    "            dcm = (dcm - dcm.min()) / (dcm.max() - dcm.min() + 1e-6)*255.0\n",
    "            nonzero = dcm[dcm > 0]\n",
    "            dcm = np.clip(dcm, 0, 2*np.std(nonzero)+np.mean(nonzero))\n",
    "            dcm = dcm / 255.0\n",
    "            dcm = cv2.resize(dcm,(224,224))\n",
    "            images.append(dcm)\n",
    "            \n",
    "    base_label = base_dir + '/' + train['study_id'] + '/' + train['series_id'] + '/' + train['instance_number']+'.dcm'\n",
    "    base_label = base_label.unique()\n",
    "    \n",
    "    labels = []\n",
    "    lens = len(path_list)\n",
    "    \n",
    "    for i in range(lens):\n",
    "        te = path_list[i] in base_label\n",
    "        labels.append(te)\n",
    "        \n",
    "    enc = OneHotEncoder(sparse_output=False)\n",
    "    label = enc.fit_transform(np.array(labels).reshape(-1,1))\n",
    "            \n",
    "    return np.array(images)[:,:,:,np.newaxis], label"
   ]
  },
  {
   "cell_type": "code",
   "execution_count": 7,
   "id": "a09201d4",
   "metadata": {
    "execution": {
     "iopub.execute_input": "2024-10-15T14:09:32.813567Z",
     "iopub.status.busy": "2024-10-15T14:09:32.813284Z",
     "iopub.status.idle": "2024-10-15T14:20:17.063716Z",
     "shell.execute_reply": "2024-10-15T14:20:17.062883Z"
    },
    "papermill": {
     "duration": 644.259115,
     "end_time": "2024-10-15T14:20:17.066268",
     "exception": false,
     "start_time": "2024-10-15T14:09:32.807153",
     "status": "completed"
    },
    "tags": []
   },
   "outputs": [
    {
     "name": "stderr",
     "output_type": "stream",
     "text": [
      "100%|██████████| 1000/1000 [08:47<00:00,  1.90it/s]\n",
      "100%|██████████| 200/200 [01:32<00:00,  2.15it/s]\n"
     ]
    }
   ],
   "source": [
    "train_image, train_label = load_images(SagittalT1_path, 0, 1000)\n",
    "valid_image, valid_label = load_images(SagittalT1_path, 1000,1200)"
   ]
  },
  {
   "cell_type": "code",
   "execution_count": 8,
   "id": "beed8f84",
   "metadata": {
    "execution": {
     "iopub.execute_input": "2024-10-15T14:20:17.260648Z",
     "iopub.status.busy": "2024-10-15T14:20:17.259716Z",
     "iopub.status.idle": "2024-10-15T14:20:17.272389Z",
     "shell.execute_reply": "2024-10-15T14:20:17.271522Z"
    },
    "papermill": {
     "duration": 0.111614,
     "end_time": "2024-10-15T14:20:17.274295",
     "exception": false,
     "start_time": "2024-10-15T14:20:17.162681",
     "status": "completed"
    },
    "tags": []
   },
   "outputs": [],
   "source": [
    "def dense_block(x, num_layers, growth_rate):\n",
    "    for i in range(num_layers):\n",
    "        # Bottleneck Layer\n",
    "        bn = layers.BatchNormalization()(x)\n",
    "        relu = layers.ReLU()(bn)\n",
    "        conv = layers.Conv2D(4 * growth_rate, (1, 1), padding='same', kernel_initializer='he_normal')(relu)\n",
    "\n",
    "        # Composite Function\n",
    "        bn = layers.BatchNormalization()(conv)\n",
    "        relu = layers.ReLU()(bn)\n",
    "        conv = layers.Conv2D(growth_rate, (3, 3), padding='same', kernel_initializer='he_normal')(relu)\n",
    "        \n",
    "        # Concatenate input with output of this layer\n",
    "        x = layers.Concatenate()([x, conv])\n",
    "    return x\n",
    "\n",
    "def transition_layer(x, reduction):\n",
    "    # Batch Normalization and ReLU\n",
    "    x = layers.BatchNormalization()(x)\n",
    "    x = layers.ReLU()(x)\n",
    "    \n",
    "    # 1x1 Convolution\n",
    "    num_filters = int(K.int_shape(x)[-1] * reduction)\n",
    "    x = layers.Conv2D(num_filters, (1, 1), padding='same', kernel_initializer='he_normal')(x)\n",
    "    \n",
    "    # Average Pooling\n",
    "    x = layers.AveragePooling2D((2, 2), strides=(2, 2))(x)\n",
    "    \n",
    "    return x\n",
    "\n",
    "def build_densenet(inputs, depth, growth_rate, reduction=0.5):\n",
    "    \n",
    "    # 初期コンボリューションレイヤー\n",
    "    x = layers.Conv2D(2 * growth_rate, (7, 7), strides=(2, 2), padding='same', kernel_initializer='he_normal')(inputs)\n",
    "    x = layers.BatchNormalization()(x)\n",
    "    x = layers.ReLU()(x)\n",
    "    x = layers.MaxPooling2D((3, 3), strides=(2, 2), padding='same')(x)\n",
    "    \n",
    "    # Dense BlockとTransition Layerの構築\n",
    "    num_dense_blocks = (depth - 4) // 6\n",
    "    for i in range(3):  # Typically, DenseNet has 3 dense blocks.\n",
    "        x = dense_block(x, num_dense_blocks, growth_rate)\n",
    "        if i != 2:  # 最後のDense Blockの後にTransition Layerは不要\n",
    "            x = transition_layer(x, reduction)\n",
    "    \n",
    "    # グローバル平均プーリングと全結合レイヤー\n",
    "    x = layers.BatchNormalization()(x)\n",
    "    x = layers.ReLU()(x)\n",
    "    x = layers.GlobalAveragePooling2D()(x)\n",
    "    \n",
    "    return x"
   ]
  },
  {
   "cell_type": "code",
   "execution_count": 9,
   "id": "d15969aa",
   "metadata": {
    "execution": {
     "iopub.execute_input": "2024-10-15T14:20:17.466287Z",
     "iopub.status.busy": "2024-10-15T14:20:17.465642Z",
     "iopub.status.idle": "2024-10-15T14:20:17.470888Z",
     "shell.execute_reply": "2024-10-15T14:20:17.470053Z"
    },
    "papermill": {
     "duration": 0.103565,
     "end_time": "2024-10-15T14:20:17.472801",
     "exception": false,
     "start_time": "2024-10-15T14:20:17.369236",
     "status": "completed"
    },
    "tags": []
   },
   "outputs": [],
   "source": [
    "def CNN_model(input_shape, num_classes, depth, growth_rate):\n",
    "    \n",
    "    inputs = Input(shape=input_shape)\n",
    "    x = build_densenet(inputs, depth, growth_rate)\n",
    "    \n",
    "    outputs = layers.Dense(num_classes, activation='sigmoid', name='output')(x)\n",
    "    model = models.Model(inputs=inputs, outputs=outputs)\n",
    "    \n",
    "    return model"
   ]
  },
  {
   "cell_type": "code",
   "execution_count": 10,
   "id": "158d8d58",
   "metadata": {
    "execution": {
     "iopub.execute_input": "2024-10-15T14:20:17.666287Z",
     "iopub.status.busy": "2024-10-15T14:20:17.665669Z",
     "iopub.status.idle": "2024-10-15T14:20:17.670213Z",
     "shell.execute_reply": "2024-10-15T14:20:17.669384Z"
    },
    "papermill": {
     "duration": 0.102873,
     "end_time": "2024-10-15T14:20:17.672094",
     "exception": false,
     "start_time": "2024-10-15T14:20:17.569221",
     "status": "completed"
    },
    "tags": []
   },
   "outputs": [],
   "source": [
    "# モデルの構築\n",
    "input_shape = (224, 224, 1)  # 画像のサイズ\n",
    "num_classes = 2  # クラス数\n",
    "depth = 40  # ネットワークの深さ\n",
    "growth_rate = 12  # グロースレート"
   ]
  },
  {
   "cell_type": "code",
   "execution_count": 11,
   "id": "db650478",
   "metadata": {
    "execution": {
     "iopub.execute_input": "2024-10-15T14:20:17.866468Z",
     "iopub.status.busy": "2024-10-15T14:20:17.865640Z",
     "iopub.status.idle": "2024-10-15T14:20:18.985681Z",
     "shell.execute_reply": "2024-10-15T14:20:18.984918Z"
    },
    "papermill": {
     "duration": 1.220515,
     "end_time": "2024-10-15T14:20:18.987968",
     "exception": false,
     "start_time": "2024-10-15T14:20:17.767453",
     "status": "completed"
    },
    "tags": []
   },
   "outputs": [],
   "source": [
    "nfn_model = CNN_model(input_shape, num_classes, depth, growth_rate)\n",
    "nfn_model.compile(optimizer='adam',loss='binary_crossentropy',metrics=['accuracy'])"
   ]
  },
  {
   "cell_type": "code",
   "execution_count": 12,
   "id": "b0663228",
   "metadata": {
    "execution": {
     "iopub.execute_input": "2024-10-15T14:20:19.181234Z",
     "iopub.status.busy": "2024-10-15T14:20:19.180451Z",
     "iopub.status.idle": "2024-10-15T14:28:27.362479Z",
     "shell.execute_reply": "2024-10-15T14:28:27.361351Z"
    },
    "papermill": {
     "duration": 488.281273,
     "end_time": "2024-10-15T14:28:27.365111",
     "exception": false,
     "start_time": "2024-10-15T14:20:19.083838",
     "status": "completed"
    },
    "tags": []
   },
   "outputs": [
    {
     "name": "stdout",
     "output_type": "stream",
     "text": [
      "Epoch 1/20\n"
     ]
    },
    {
     "name": "stderr",
     "output_type": "stream",
     "text": [
      "WARNING: All log messages before absl::InitializeLog() is called are written to STDERR\n",
      "I0000 00:00:1729002049.181613      72 service.cc:145] XLA service 0x799a34014240 initialized for platform CUDA (this does not guarantee that XLA will be used). Devices:\n",
      "I0000 00:00:1729002049.181699      72 service.cc:153]   StreamExecutor device (0): Tesla P100-PCIE-16GB, Compute Capability 6.0\n"
     ]
    },
    {
     "name": "stdout",
     "output_type": "stream",
     "text": [
      "\u001b[1m  2/267\u001b[0m \u001b[37m━━━━━━━━━━━━━━━━━━━━\u001b[0m \u001b[1m22s\u001b[0m 85ms/step - accuracy: 0.7461 - loss: 0.6114   "
     ]
    },
    {
     "name": "stderr",
     "output_type": "stream",
     "text": [
      "I0000 00:00:1729002075.158036      72 device_compiler.h:188] Compiled cluster using XLA!  This line is logged at most once for the lifetime of the process.\n"
     ]
    },
    {
     "name": "stdout",
     "output_type": "stream",
     "text": [
      "\u001b[1m267/267\u001b[0m \u001b[32m━━━━━━━━━━━━━━━━━━━━\u001b[0m\u001b[37m\u001b[0m \u001b[1m0s\u001b[0m 149ms/step - accuracy: 0.8092 - loss: 0.4203"
     ]
    },
    {
     "name": "stderr",
     "output_type": "stream",
     "text": [
      "WARNING: All log messages before absl::InitializeLog() is called are written to STDERR\n",
      "I0000 00:00:1729002114.820841      72 asm_compiler.cc:369] ptxas warning : Registers are spilled to local memory in function 'input_reduce_fusion_171', 36 bytes spill stores, 36 bytes spill loads\n",
      "ptxas warning : Registers are spilled to local memory in function 'input_reduce_reduce_window_fusion_1', 28 bytes spill stores, 28 bytes spill loads\n",
      "\n"
     ]
    },
    {
     "name": "stdout",
     "output_type": "stream",
     "text": [
      "\u001b[1m267/267\u001b[0m \u001b[32m━━━━━━━━━━━━━━━━━━━━\u001b[0m\u001b[37m\u001b[0m \u001b[1m94s\u001b[0m 176ms/step - accuracy: 0.8094 - loss: 0.4200 - val_accuracy: 0.7851 - val_loss: 0.4512\n",
      "Epoch 2/20\n",
      "\u001b[1m267/267\u001b[0m \u001b[32m━━━━━━━━━━━━━━━━━━━━\u001b[0m\u001b[37m\u001b[0m \u001b[1m20s\u001b[0m 76ms/step - accuracy: 0.8912 - loss: 0.2545 - val_accuracy: 0.7836 - val_loss: 0.4393\n",
      "Epoch 3/20\n",
      "\u001b[1m267/267\u001b[0m \u001b[32m━━━━━━━━━━━━━━━━━━━━\u001b[0m\u001b[37m\u001b[0m \u001b[1m20s\u001b[0m 75ms/step - accuracy: 0.8989 - loss: 0.2327 - val_accuracy: 0.8025 - val_loss: 0.4553\n",
      "Epoch 4/20\n",
      "\u001b[1m267/267\u001b[0m \u001b[32m━━━━━━━━━━━━━━━━━━━━\u001b[0m\u001b[37m\u001b[0m \u001b[1m20s\u001b[0m 76ms/step - accuracy: 0.9088 - loss: 0.2068 - val_accuracy: 0.7919 - val_loss: 0.6520\n",
      "Epoch 5/20\n",
      "\u001b[1m267/267\u001b[0m \u001b[32m━━━━━━━━━━━━━━━━━━━━\u001b[0m\u001b[37m\u001b[0m \u001b[1m20s\u001b[0m 76ms/step - accuracy: 0.9136 - loss: 0.2019 - val_accuracy: 0.8605 - val_loss: 0.2870\n",
      "Epoch 6/20\n",
      "\u001b[1m267/267\u001b[0m \u001b[32m━━━━━━━━━━━━━━━━━━━━\u001b[0m\u001b[37m\u001b[0m \u001b[1m20s\u001b[0m 75ms/step - accuracy: 0.9171 - loss: 0.1946 - val_accuracy: 0.9013 - val_loss: 0.2501\n",
      "Epoch 7/20\n",
      "\u001b[1m267/267\u001b[0m \u001b[32m━━━━━━━━━━━━━━━━━━━━\u001b[0m\u001b[37m\u001b[0m \u001b[1m20s\u001b[0m 76ms/step - accuracy: 0.9268 - loss: 0.1742 - val_accuracy: 0.9016 - val_loss: 0.2638\n",
      "Epoch 8/20\n",
      "\u001b[1m267/267\u001b[0m \u001b[32m━━━━━━━━━━━━━━━━━━━━\u001b[0m\u001b[37m\u001b[0m \u001b[1m20s\u001b[0m 76ms/step - accuracy: 0.9277 - loss: 0.1706 - val_accuracy: 0.8770 - val_loss: 0.3215\n",
      "Epoch 9/20\n",
      "\u001b[1m267/267\u001b[0m \u001b[32m━━━━━━━━━━━━━━━━━━━━\u001b[0m\u001b[37m\u001b[0m \u001b[1m20s\u001b[0m 76ms/step - accuracy: 0.9327 - loss: 0.1604 - val_accuracy: 0.8897 - val_loss: 0.2677\n",
      "Epoch 10/20\n",
      "\u001b[1m267/267\u001b[0m \u001b[32m━━━━━━━━━━━━━━━━━━━━\u001b[0m\u001b[37m\u001b[0m \u001b[1m20s\u001b[0m 76ms/step - accuracy: 0.9223 - loss: 0.1782 - val_accuracy: 0.8498 - val_loss: 0.4964\n",
      "Epoch 11/20\n",
      "\u001b[1m267/267\u001b[0m \u001b[32m━━━━━━━━━━━━━━━━━━━━\u001b[0m\u001b[37m\u001b[0m \u001b[1m20s\u001b[0m 76ms/step - accuracy: 0.9496 - loss: 0.1259 - val_accuracy: 0.8998 - val_loss: 0.2416\n",
      "Epoch 12/20\n",
      "\u001b[1m267/267\u001b[0m \u001b[32m━━━━━━━━━━━━━━━━━━━━\u001b[0m\u001b[37m\u001b[0m \u001b[1m20s\u001b[0m 76ms/step - accuracy: 0.9463 - loss: 0.1302 - val_accuracy: 0.8942 - val_loss: 0.2729\n",
      "Epoch 13/20\n",
      "\u001b[1m267/267\u001b[0m \u001b[32m━━━━━━━━━━━━━━━━━━━━\u001b[0m\u001b[37m\u001b[0m \u001b[1m20s\u001b[0m 75ms/step - accuracy: 0.9611 - loss: 0.1033 - val_accuracy: 0.8472 - val_loss: 0.3387\n",
      "Epoch 14/20\n",
      "\u001b[1m267/267\u001b[0m \u001b[32m━━━━━━━━━━━━━━━━━━━━\u001b[0m\u001b[37m\u001b[0m \u001b[1m20s\u001b[0m 75ms/step - accuracy: 0.9502 - loss: 0.1281 - val_accuracy: 0.8717 - val_loss: 0.4258\n",
      "Epoch 15/20\n",
      "\u001b[1m267/267\u001b[0m \u001b[32m━━━━━━━━━━━━━━━━━━━━\u001b[0m\u001b[37m\u001b[0m \u001b[1m20s\u001b[0m 76ms/step - accuracy: 0.9635 - loss: 0.0914 - val_accuracy: 0.8962 - val_loss: 0.3627\n",
      "Epoch 16/20\n",
      "\u001b[1m267/267\u001b[0m \u001b[32m━━━━━━━━━━━━━━━━━━━━\u001b[0m\u001b[37m\u001b[0m \u001b[1m20s\u001b[0m 76ms/step - accuracy: 0.9680 - loss: 0.0774 - val_accuracy: 0.8289 - val_loss: 0.5727\n",
      "Epoch 17/20\n",
      "\u001b[1m267/267\u001b[0m \u001b[32m━━━━━━━━━━━━━━━━━━━━\u001b[0m\u001b[37m\u001b[0m \u001b[1m20s\u001b[0m 76ms/step - accuracy: 0.9648 - loss: 0.0883 - val_accuracy: 0.8741 - val_loss: 0.4784\n",
      "Epoch 18/20\n",
      "\u001b[1m267/267\u001b[0m \u001b[32m━━━━━━━━━━━━━━━━━━━━\u001b[0m\u001b[37m\u001b[0m \u001b[1m20s\u001b[0m 76ms/step - accuracy: 0.9781 - loss: 0.0550 - val_accuracy: 0.8939 - val_loss: 0.4214\n",
      "Epoch 19/20\n",
      "\u001b[1m267/267\u001b[0m \u001b[32m━━━━━━━━━━━━━━━━━━━━\u001b[0m\u001b[37m\u001b[0m \u001b[1m20s\u001b[0m 76ms/step - accuracy: 0.9826 - loss: 0.0462 - val_accuracy: 0.8132 - val_loss: 1.1034\n",
      "Epoch 20/20\n",
      "\u001b[1m267/267\u001b[0m \u001b[32m━━━━━━━━━━━━━━━━━━━━\u001b[0m\u001b[37m\u001b[0m \u001b[1m20s\u001b[0m 76ms/step - accuracy: 0.9713 - loss: 0.0764 - val_accuracy: 0.8954 - val_loss: 0.3619\n"
     ]
    }
   ],
   "source": [
    "nfn_history = nfn_model.fit(train_image, train_label, \n",
    "                            epochs=20, batch_size=64,\n",
    "                            validation_data=(valid_image, valid_label))"
   ]
  },
  {
   "cell_type": "code",
   "execution_count": 13,
   "id": "3ca4b71f",
   "metadata": {
    "execution": {
     "iopub.execute_input": "2024-10-15T14:28:28.461662Z",
     "iopub.status.busy": "2024-10-15T14:28:28.461297Z",
     "iopub.status.idle": "2024-10-15T14:29:14.203551Z",
     "shell.execute_reply": "2024-10-15T14:29:14.202696Z"
    },
    "papermill": {
     "duration": 46.274919,
     "end_time": "2024-10-15T14:29:14.206016",
     "exception": false,
     "start_time": "2024-10-15T14:28:27.931097",
     "status": "completed"
    },
    "tags": []
   },
   "outputs": [
    {
     "name": "stderr",
     "output_type": "stream",
     "text": [
      "100%|██████████| 100/100 [00:43<00:00,  2.29it/s]\n"
     ]
    }
   ],
   "source": [
    "test_image, test_label = load_images(SagittalT1_path, 1200, 1300)"
   ]
  },
  {
   "cell_type": "code",
   "execution_count": 14,
   "id": "bf6e0641",
   "metadata": {
    "execution": {
     "iopub.execute_input": "2024-10-15T14:29:15.304325Z",
     "iopub.status.busy": "2024-10-15T14:29:15.303453Z",
     "iopub.status.idle": "2024-10-15T14:29:22.803780Z",
     "shell.execute_reply": "2024-10-15T14:29:22.802817Z"
    },
    "papermill": {
     "duration": 8.029313,
     "end_time": "2024-10-15T14:29:22.805960",
     "exception": false,
     "start_time": "2024-10-15T14:29:14.776647",
     "status": "completed"
    },
    "tags": []
   },
   "outputs": [
    {
     "name": "stdout",
     "output_type": "stream",
     "text": [
      "\u001b[1m56/56\u001b[0m \u001b[32m━━━━━━━━━━━━━━━━━━━━\u001b[0m\u001b[37m\u001b[0m \u001b[1m7s\u001b[0m 65ms/step\n"
     ]
    }
   ],
   "source": [
    "pred = nfn_model.predict(test_image)\n",
    "ac = np.argmax(pred, axis=1)\n",
    "test = np.argmax(test_label, axis=1)"
   ]
  },
  {
   "cell_type": "code",
   "execution_count": 15,
   "id": "420375f8",
   "metadata": {
    "execution": {
     "iopub.execute_input": "2024-10-15T14:29:23.862211Z",
     "iopub.status.busy": "2024-10-15T14:29:23.861830Z",
     "iopub.status.idle": "2024-10-15T14:29:24.932156Z",
     "shell.execute_reply": "2024-10-15T14:29:24.931199Z"
    },
    "papermill": {
     "duration": 1.601871,
     "end_time": "2024-10-15T14:29:24.934406",
     "exception": false,
     "start_time": "2024-10-15T14:29:23.332535",
     "status": "completed"
    },
    "tags": []
   },
   "outputs": [
    {
     "name": "stdout",
     "output_type": "stream",
     "text": [
      "tf.Tensor(0.8852459, shape=(), dtype=float32)\n",
      "tf.Tensor(1.9466774, shape=(), dtype=float32)\n"
     ]
    }
   ],
   "source": [
    "a = metrics.Accuracy()\n",
    "a.update_state(ac,test)\n",
    "print(a.result())\n",
    "\n",
    "l = metrics.BinaryCrossentropy()\n",
    "l.update_state(pred,test_label)\n",
    "print(l.result())"
   ]
  },
  {
   "cell_type": "code",
   "execution_count": 16,
   "id": "6540a744",
   "metadata": {
    "execution": {
     "iopub.execute_input": "2024-10-15T14:29:26.029822Z",
     "iopub.status.busy": "2024-10-15T14:29:26.029452Z",
     "iopub.status.idle": "2024-10-15T14:29:26.458754Z",
     "shell.execute_reply": "2024-10-15T14:29:26.457958Z"
    },
    "papermill": {
     "duration": 0.959411,
     "end_time": "2024-10-15T14:29:26.460963",
     "exception": false,
     "start_time": "2024-10-15T14:29:25.501552",
     "status": "completed"
    },
    "tags": []
   },
   "outputs": [],
   "source": [
    "nfn_model.save('/kaggle/working/nfn_extraction_model.h5')"
   ]
  }
 ],
 "metadata": {
  "kaggle": {
   "accelerator": "gpu",
   "dataSources": [
    {
     "databundleVersionId": 8561470,
     "sourceId": 71549,
     "sourceType": "competition"
    },
    {
     "sourceId": 186321915,
     "sourceType": "kernelVersion"
    }
   ],
   "dockerImageVersionId": 30762,
   "isGpuEnabled": true,
   "isInternetEnabled": true,
   "language": "python",
   "sourceType": "notebook"
  },
  "kernelspec": {
   "display_name": "Python 3",
   "language": "python",
   "name": "python3"
  },
  "language_info": {
   "codemirror_mode": {
    "name": "ipython",
    "version": 3
   },
   "file_extension": ".py",
   "mimetype": "text/x-python",
   "name": "python",
   "nbconvert_exporter": "python",
   "pygments_lexer": "ipython3",
   "version": "3.10.14"
  },
  "papermill": {
   "default_parameters": {},
   "duration": 1229.326605,
   "end_time": "2024-10-15T14:29:30.796157",
   "environment_variables": {},
   "exception": null,
   "input_path": "__notebook__.ipynb",
   "output_path": "__notebook__.ipynb",
   "parameters": {},
   "start_time": "2024-10-15T14:09:01.469552",
   "version": "2.6.0"
  }
 },
 "nbformat": 4,
 "nbformat_minor": 5
}
