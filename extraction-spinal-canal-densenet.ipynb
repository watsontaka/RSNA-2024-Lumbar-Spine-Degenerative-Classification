{
 "cells": [
  {
   "cell_type": "code",
   "execution_count": 1,
   "id": "6275764b",
   "metadata": {
    "execution": {
     "iopub.execute_input": "2024-10-15T14:35:27.875773Z",
     "iopub.status.busy": "2024-10-15T14:35:27.874885Z",
     "iopub.status.idle": "2024-10-15T14:35:43.214011Z",
     "shell.execute_reply": "2024-10-15T14:35:43.212940Z"
    },
    "papermill": {
     "duration": 15.349236,
     "end_time": "2024-10-15T14:35:43.216370",
     "exception": false,
     "start_time": "2024-10-15T14:35:27.867134",
     "status": "completed"
    },
    "tags": []
   },
   "outputs": [
    {
     "name": "stdout",
     "output_type": "stream",
     "text": [
      "Collecting natsort\r\n",
      "  Downloading natsort-8.4.0-py3-none-any.whl.metadata (21 kB)\r\n",
      "Downloading natsort-8.4.0-py3-none-any.whl (38 kB)\r\n",
      "Installing collected packages: natsort\r\n",
      "Successfully installed natsort-8.4.0\r\n"
     ]
    }
   ],
   "source": [
    "!pip3 install natsort"
   ]
  },
  {
   "cell_type": "code",
   "execution_count": 2,
   "id": "d3309542",
   "metadata": {
    "execution": {
     "iopub.execute_input": "2024-10-15T14:35:43.229499Z",
     "iopub.status.busy": "2024-10-15T14:35:43.229192Z",
     "iopub.status.idle": "2024-10-15T14:36:03.507600Z",
     "shell.execute_reply": "2024-10-15T14:36:03.506603Z"
    },
    "papermill": {
     "duration": 20.287663,
     "end_time": "2024-10-15T14:36:03.510132",
     "exception": false,
     "start_time": "2024-10-15T14:35:43.222469",
     "status": "completed"
    },
    "tags": []
   },
   "outputs": [],
   "source": [
    "import numpy as np\n",
    "import pandas as pd\n",
    "import matplotlib.pyplot as plt\n",
    "from natsort import natsorted\n",
    "import os\n",
    "import glob\n",
    "import cv2\n",
    "import pydicom\n",
    "from tqdm import tqdm\n",
    "from sklearn.preprocessing import OneHotEncoder\n",
    "\n",
    "import tensorflow as tf\n",
    "from tensorflow.keras import *\n",
    "import tensorflow.keras.backend as K"
   ]
  },
  {
   "cell_type": "code",
   "execution_count": 3,
   "id": "50d85d2f",
   "metadata": {
    "execution": {
     "iopub.execute_input": "2024-10-15T14:36:03.523015Z",
     "iopub.status.busy": "2024-10-15T14:36:03.522438Z",
     "iopub.status.idle": "2024-10-15T14:36:03.730191Z",
     "shell.execute_reply": "2024-10-15T14:36:03.729376Z"
    },
    "papermill": {
     "duration": 0.216443,
     "end_time": "2024-10-15T14:36:03.732462",
     "exception": false,
     "start_time": "2024-10-15T14:36:03.516019",
     "status": "completed"
    },
    "tags": []
   },
   "outputs": [],
   "source": [
    "train = pd.read_csv('/kaggle/input/rsna-dataframe/train_data.csv')\n",
    "train = train.astype({'study_id':'str','series_id':'str','instance_number':'str'})\n",
    "train_des = pd.read_csv('/kaggle/input/rsna-dataframe/train_des.csv')\n",
    "train_des = train_des.astype({'study_id':'str','series_id':'str'})"
   ]
  },
  {
   "cell_type": "code",
   "execution_count": 4,
   "id": "26221eb1",
   "metadata": {
    "execution": {
     "iopub.execute_input": "2024-10-15T14:36:03.746299Z",
     "iopub.status.busy": "2024-10-15T14:36:03.745474Z",
     "iopub.status.idle": "2024-10-15T14:36:03.764528Z",
     "shell.execute_reply": "2024-10-15T14:36:03.763637Z"
    },
    "papermill": {
     "duration": 0.028319,
     "end_time": "2024-10-15T14:36:03.766705",
     "exception": false,
     "start_time": "2024-10-15T14:36:03.738386",
     "status": "completed"
    },
    "tags": []
   },
   "outputs": [
    {
     "data": {
      "text/html": [
       "<div>\n",
       "<style scoped>\n",
       "    .dataframe tbody tr th:only-of-type {\n",
       "        vertical-align: middle;\n",
       "    }\n",
       "\n",
       "    .dataframe tbody tr th {\n",
       "        vertical-align: top;\n",
       "    }\n",
       "\n",
       "    .dataframe thead th {\n",
       "        text-align: right;\n",
       "    }\n",
       "</style>\n",
       "<table border=\"1\" class=\"dataframe\">\n",
       "  <thead>\n",
       "    <tr style=\"text-align: right;\">\n",
       "      <th></th>\n",
       "      <th>study_id</th>\n",
       "      <th>series_id</th>\n",
       "      <th>series_description</th>\n",
       "    </tr>\n",
       "  </thead>\n",
       "  <tbody>\n",
       "    <tr>\n",
       "      <th>0</th>\n",
       "      <td>100206310</td>\n",
       "      <td>1792451510</td>\n",
       "      <td>Sagittal T2/STIR</td>\n",
       "    </tr>\n",
       "    <tr>\n",
       "      <th>1</th>\n",
       "      <td>100206310</td>\n",
       "      <td>2092806862</td>\n",
       "      <td>Sagittal T1</td>\n",
       "    </tr>\n",
       "    <tr>\n",
       "      <th>2</th>\n",
       "      <td>100206310</td>\n",
       "      <td>1012284084</td>\n",
       "      <td>Axial T2</td>\n",
       "    </tr>\n",
       "    <tr>\n",
       "      <th>3</th>\n",
       "      <td>1002894806</td>\n",
       "      <td>801316590</td>\n",
       "      <td>Sagittal T2/STIR</td>\n",
       "    </tr>\n",
       "    <tr>\n",
       "      <th>4</th>\n",
       "      <td>1002894806</td>\n",
       "      <td>866293114</td>\n",
       "      <td>Sagittal T1</td>\n",
       "    </tr>\n",
       "    <tr>\n",
       "      <th>...</th>\n",
       "      <td>...</td>\n",
       "      <td>...</td>\n",
       "      <td>...</td>\n",
       "    </tr>\n",
       "    <tr>\n",
       "      <th>5362</th>\n",
       "      <td>991428866</td>\n",
       "      <td>2954790819</td>\n",
       "      <td>Sagittal T1</td>\n",
       "    </tr>\n",
       "    <tr>\n",
       "      <th>5363</th>\n",
       "      <td>991428866</td>\n",
       "      <td>3160509931</td>\n",
       "      <td>Axial T2</td>\n",
       "    </tr>\n",
       "    <tr>\n",
       "      <th>5364</th>\n",
       "      <td>992674144</td>\n",
       "      <td>1576603050</td>\n",
       "      <td>Sagittal T2/STIR</td>\n",
       "    </tr>\n",
       "    <tr>\n",
       "      <th>5365</th>\n",
       "      <td>992674144</td>\n",
       "      <td>1814811290</td>\n",
       "      <td>Sagittal T1</td>\n",
       "    </tr>\n",
       "    <tr>\n",
       "      <th>5366</th>\n",
       "      <td>992674144</td>\n",
       "      <td>1614310972</td>\n",
       "      <td>Axial T2</td>\n",
       "    </tr>\n",
       "  </tbody>\n",
       "</table>\n",
       "<p>5367 rows × 3 columns</p>\n",
       "</div>"
      ],
      "text/plain": [
       "        study_id   series_id series_description\n",
       "0      100206310  1792451510   Sagittal T2/STIR\n",
       "1      100206310  2092806862        Sagittal T1\n",
       "2      100206310  1012284084           Axial T2\n",
       "3     1002894806   801316590   Sagittal T2/STIR\n",
       "4     1002894806   866293114        Sagittal T1\n",
       "...          ...         ...                ...\n",
       "5362   991428866  2954790819        Sagittal T1\n",
       "5363   991428866  3160509931           Axial T2\n",
       "5364   992674144  1576603050   Sagittal T2/STIR\n",
       "5365   992674144  1814811290        Sagittal T1\n",
       "5366   992674144  1614310972           Axial T2\n",
       "\n",
       "[5367 rows x 3 columns]"
      ]
     },
     "execution_count": 4,
     "metadata": {},
     "output_type": "execute_result"
    }
   ],
   "source": [
    "train_des"
   ]
  },
  {
   "cell_type": "code",
   "execution_count": 5,
   "id": "283cbde7",
   "metadata": {
    "execution": {
     "iopub.execute_input": "2024-10-15T14:36:03.780916Z",
     "iopub.status.busy": "2024-10-15T14:36:03.780528Z",
     "iopub.status.idle": "2024-10-15T14:36:03.790930Z",
     "shell.execute_reply": "2024-10-15T14:36:03.789929Z"
    },
    "papermill": {
     "duration": 0.019623,
     "end_time": "2024-10-15T14:36:03.792968",
     "exception": false,
     "start_time": "2024-10-15T14:36:03.773345",
     "status": "completed"
    },
    "tags": []
   },
   "outputs": [],
   "source": [
    "base_dir = '/kaggle/input/rsna-2024-lumbar-spine-degenerative-classification/train_images'\n",
    "SagittalT2 = train_des[train_des['series_description']=='Sagittal T2/STIR'].reset_index(drop=True)\n",
    "SagittalT2_path = base_dir + '/' + SagittalT2['study_id'] + '/' + SagittalT2['series_id'] + '/*.dcm'"
   ]
  },
  {
   "cell_type": "code",
   "execution_count": null,
   "id": "10437191",
   "metadata": {
    "papermill": {
     "duration": 0.005516,
     "end_time": "2024-10-15T14:36:03.804297",
     "exception": false,
     "start_time": "2024-10-15T14:36:03.798781",
     "status": "completed"
    },
    "tags": []
   },
   "outputs": [],
   "source": []
  },
  {
   "cell_type": "code",
   "execution_count": 6,
   "id": "fb4e4b13",
   "metadata": {
    "execution": {
     "iopub.execute_input": "2024-10-15T14:36:03.819271Z",
     "iopub.status.busy": "2024-10-15T14:36:03.818235Z",
     "iopub.status.idle": "2024-10-15T14:36:03.827950Z",
     "shell.execute_reply": "2024-10-15T14:36:03.827057Z"
    },
    "papermill": {
     "duration": 0.018795,
     "end_time": "2024-10-15T14:36:03.830081",
     "exception": false,
     "start_time": "2024-10-15T14:36:03.811286",
     "status": "completed"
    },
    "tags": []
   },
   "outputs": [],
   "source": [
    "def load_images(dir_path, s=0, ends=100):\n",
    "    \n",
    "    images = []\n",
    "    path_list = []\n",
    "    \n",
    "    for p in tqdm(dir_path[s:ends]):\n",
    "        path = natsorted(glob.glob(p))\n",
    "        path_list += path\n",
    "        \n",
    "        for im in path:\n",
    "            dcm = pydicom.dcmread(im)\n",
    "            dcm = dcm.pixel_array\n",
    "            dcm = (dcm - dcm.min()) / (dcm.max() - dcm.min() + 1e-6)*255.0\n",
    "            dcm = dcm / 255.0\n",
    "            dcm = cv2.resize(dcm,(224,224))\n",
    "            images.append(dcm)\n",
    "            \n",
    "    base_label = base_dir + '/' + train['study_id'] + '/' + train['series_id'] + '/' + train['instance_number']+'.dcm'\n",
    "    base_label = base_label.unique()\n",
    "    \n",
    "    labels = []\n",
    "    lens = len(path_list)\n",
    "    \n",
    "    for i in range(lens):\n",
    "        te = path_list[i] in base_label\n",
    "        labels.append(te)\n",
    "        \n",
    "    enc = OneHotEncoder(sparse_output=False)\n",
    "    label = enc.fit_transform(np.array(labels).reshape(-1,1))\n",
    "            \n",
    "    return np.array(images)[:,:,:,np.newaxis], label"
   ]
  },
  {
   "cell_type": "code",
   "execution_count": 7,
   "id": "fa2f9e87",
   "metadata": {
    "execution": {
     "iopub.execute_input": "2024-10-15T14:36:03.843335Z",
     "iopub.status.busy": "2024-10-15T14:36:03.842782Z",
     "iopub.status.idle": "2024-10-15T14:43:36.760587Z",
     "shell.execute_reply": "2024-10-15T14:43:36.759632Z"
    },
    "papermill": {
     "duration": 452.927311,
     "end_time": "2024-10-15T14:43:36.763166",
     "exception": false,
     "start_time": "2024-10-15T14:36:03.835855",
     "status": "completed"
    },
    "tags": []
   },
   "outputs": [
    {
     "name": "stderr",
     "output_type": "stream",
     "text": [
      "100%|██████████| 1000/1000 [07:12<00:00,  2.31it/s]\n"
     ]
    }
   ],
   "source": [
    "train_image, train_label = load_images(SagittalT2_path, 0, 1000)"
   ]
  },
  {
   "cell_type": "code",
   "execution_count": 8,
   "id": "e55bdb09",
   "metadata": {
    "execution": {
     "iopub.execute_input": "2024-10-15T14:43:36.928307Z",
     "iopub.status.busy": "2024-10-15T14:43:36.927904Z",
     "iopub.status.idle": "2024-10-15T14:45:04.741438Z",
     "shell.execute_reply": "2024-10-15T14:45:04.740061Z"
    },
    "papermill": {
     "duration": 87.8991,
     "end_time": "2024-10-15T14:45:04.743930",
     "exception": false,
     "start_time": "2024-10-15T14:43:36.844830",
     "status": "completed"
    },
    "tags": []
   },
   "outputs": [
    {
     "name": "stderr",
     "output_type": "stream",
     "text": [
      "100%|██████████| 200/200 [01:23<00:00,  2.38it/s]\n"
     ]
    }
   ],
   "source": [
    "valid_image, valid_label = load_images(SagittalT2_path, 1000,1200)"
   ]
  },
  {
   "cell_type": "code",
   "execution_count": 9,
   "id": "e53ada0b",
   "metadata": {
    "execution": {
     "iopub.execute_input": "2024-10-15T14:45:04.983390Z",
     "iopub.status.busy": "2024-10-15T14:45:04.982504Z",
     "iopub.status.idle": "2024-10-15T14:45:04.995121Z",
     "shell.execute_reply": "2024-10-15T14:45:04.994244Z"
    },
    "papermill": {
     "duration": 0.113439,
     "end_time": "2024-10-15T14:45:04.997036",
     "exception": false,
     "start_time": "2024-10-15T14:45:04.883597",
     "status": "completed"
    },
    "tags": []
   },
   "outputs": [],
   "source": [
    "def dense_block(x, num_layers, growth_rate):\n",
    "    for i in range(num_layers):\n",
    "        # Bottleneck Layer\n",
    "        bn = layers.BatchNormalization()(x)\n",
    "        relu = layers.ReLU()(bn)\n",
    "        conv = layers.Conv2D(4 * growth_rate, (1, 1), padding='same', kernel_initializer='he_normal')(relu)\n",
    "\n",
    "        # Composite Function\n",
    "        bn = layers.BatchNormalization()(conv)\n",
    "        relu = layers.ReLU()(bn)\n",
    "        conv = layers.Conv2D(growth_rate, (3, 3), padding='same', kernel_initializer='he_normal')(relu)\n",
    "        \n",
    "        # Concatenate input with output of this layer\n",
    "        x = layers.Concatenate()([x, conv])\n",
    "    return x\n",
    "\n",
    "def transition_layer(x, reduction):\n",
    "    # Batch Normalization and ReLU\n",
    "    x = layers.BatchNormalization()(x)\n",
    "    x = layers.ReLU()(x)\n",
    "    \n",
    "    # 1x1 Convolution\n",
    "    num_filters = int(K.int_shape(x)[-1] * reduction)\n",
    "    x = layers.Conv2D(num_filters, (1, 1), padding='same', kernel_initializer='he_normal')(x)\n",
    "    \n",
    "    # Average Pooling\n",
    "    x = layers.AveragePooling2D((2, 2), strides=(2, 2))(x)\n",
    "    \n",
    "    return x\n",
    "\n",
    "def build_densenet(inputs, depth, growth_rate, reduction=0.5):\n",
    "    \n",
    "    # 初期コンボリューションレイヤー\n",
    "    x = layers.Conv2D(2 * growth_rate, (7, 7), strides=(2, 2), padding='same', kernel_initializer='he_normal')(inputs)\n",
    "    x = layers.BatchNormalization()(x)\n",
    "    x = layers.ReLU()(x)\n",
    "    x = layers.MaxPooling2D((3, 3), strides=(2, 2), padding='same')(x)\n",
    "    \n",
    "    # Dense BlockとTransition Layerの構築\n",
    "    num_dense_blocks = (depth - 4) // 6\n",
    "    for i in range(3):  # Typically, DenseNet has 3 dense blocks.\n",
    "        x = dense_block(x, num_dense_blocks, growth_rate)\n",
    "        if i != 2:  # 最後のDense Blockの後にTransition Layerは不要\n",
    "            x = transition_layer(x, reduction)\n",
    "    \n",
    "    # グローバル平均プーリングと全結合レイヤー\n",
    "    x = layers.BatchNormalization()(x)\n",
    "    x = layers.ReLU()(x)\n",
    "    x = layers.GlobalAveragePooling2D()(x)\n",
    "    \n",
    "    return x"
   ]
  },
  {
   "cell_type": "code",
   "execution_count": 10,
   "id": "dc468f4b",
   "metadata": {
    "execution": {
     "iopub.execute_input": "2024-10-15T14:45:05.191097Z",
     "iopub.status.busy": "2024-10-15T14:45:05.190670Z",
     "iopub.status.idle": "2024-10-15T14:45:05.196413Z",
     "shell.execute_reply": "2024-10-15T14:45:05.195473Z"
    },
    "papermill": {
     "duration": 0.104901,
     "end_time": "2024-10-15T14:45:05.198390",
     "exception": false,
     "start_time": "2024-10-15T14:45:05.093489",
     "status": "completed"
    },
    "tags": []
   },
   "outputs": [],
   "source": [
    "def CNN_model(input_shape, num_classes, depth, growth_rate):\n",
    "    \n",
    "    inputs = Input(shape=input_shape)\n",
    "    x = build_densenet(inputs, depth, growth_rate)\n",
    "    \n",
    "    outputs = layers.Dense(num_classes, activation='sigmoid', name='output')(x)\n",
    "    model = models.Model(inputs=inputs, outputs=outputs)\n",
    "    \n",
    "    return model"
   ]
  },
  {
   "cell_type": "code",
   "execution_count": 11,
   "id": "3b0a706c",
   "metadata": {
    "execution": {
     "iopub.execute_input": "2024-10-15T14:45:05.389842Z",
     "iopub.status.busy": "2024-10-15T14:45:05.389546Z",
     "iopub.status.idle": "2024-10-15T14:45:05.393966Z",
     "shell.execute_reply": "2024-10-15T14:45:05.392978Z"
    },
    "papermill": {
     "duration": 0.102123,
     "end_time": "2024-10-15T14:45:05.395817",
     "exception": false,
     "start_time": "2024-10-15T14:45:05.293694",
     "status": "completed"
    },
    "tags": []
   },
   "outputs": [],
   "source": [
    "# モデルの構築\n",
    "input_shape = (224, 224, 1)  # 画像のサイズ\n",
    "num_classes = 2  # クラス数\n",
    "depth = 40  # ネットワークの深さ\n",
    "growth_rate = 12  # グロースレート"
   ]
  },
  {
   "cell_type": "code",
   "execution_count": 12,
   "id": "89d64823",
   "metadata": {
    "execution": {
     "iopub.execute_input": "2024-10-15T14:45:05.588491Z",
     "iopub.status.busy": "2024-10-15T14:45:05.587898Z",
     "iopub.status.idle": "2024-10-15T14:45:07.039181Z",
     "shell.execute_reply": "2024-10-15T14:45:07.038392Z"
    },
    "papermill": {
     "duration": 1.549804,
     "end_time": "2024-10-15T14:45:07.041471",
     "exception": false,
     "start_time": "2024-10-15T14:45:05.491667",
     "status": "completed"
    },
    "tags": []
   },
   "outputs": [],
   "source": [
    "scs_model = CNN_model(input_shape, num_classes, depth, growth_rate)\n",
    "scs_model.compile(optimizer='adam',loss='binary_crossentropy',metrics=['accuracy'])"
   ]
  },
  {
   "cell_type": "code",
   "execution_count": 13,
   "id": "b3a37407",
   "metadata": {
    "execution": {
     "iopub.execute_input": "2024-10-15T14:45:07.237681Z",
     "iopub.status.busy": "2024-10-15T14:45:07.236792Z",
     "iopub.status.idle": "2024-10-15T14:45:07.884342Z",
     "shell.execute_reply": "2024-10-15T14:45:07.883340Z"
    },
    "papermill": {
     "duration": 0.748485,
     "end_time": "2024-10-15T14:45:07.886762",
     "exception": false,
     "start_time": "2024-10-15T14:45:07.138277",
     "status": "completed"
    },
    "tags": []
   },
   "outputs": [],
   "source": [
    "nfn_model = CNN_model(input_shape, num_classes, depth, growth_rate)\n",
    "nfn_model.compile(optimizer='adam',loss='binary_crossentropy',metrics=['accuracy'])"
   ]
  },
  {
   "cell_type": "code",
   "execution_count": 14,
   "id": "985be199",
   "metadata": {
    "execution": {
     "iopub.execute_input": "2024-10-15T14:45:08.081506Z",
     "iopub.status.busy": "2024-10-15T14:45:08.081124Z",
     "iopub.status.idle": "2024-10-15T14:53:29.327678Z",
     "shell.execute_reply": "2024-10-15T14:53:29.326636Z"
    },
    "papermill": {
     "duration": 501.667601,
     "end_time": "2024-10-15T14:53:29.651840",
     "exception": false,
     "start_time": "2024-10-15T14:45:07.984239",
     "status": "completed"
    },
    "tags": []
   },
   "outputs": [
    {
     "name": "stdout",
     "output_type": "stream",
     "text": [
      "Epoch 1/20\n"
     ]
    },
    {
     "name": "stderr",
     "output_type": "stream",
     "text": [
      "WARNING: All log messages before absl::InitializeLog() is called are written to STDERR\n",
      "I0000 00:00:1729003539.854989      71 service.cc:145] XLA service 0x795d000f9600 initialized for platform CUDA (this does not guarantee that XLA will be used). Devices:\n",
      "I0000 00:00:1729003539.855040      71 service.cc:153]   StreamExecutor device (0): Tesla P100-PCIE-16GB, Compute Capability 6.0\n"
     ]
    },
    {
     "name": "stdout",
     "output_type": "stream",
     "text": [
      "\u001b[1m  2/267\u001b[0m \u001b[37m━━━━━━━━━━━━━━━━━━━━\u001b[0m \u001b[1m22s\u001b[0m 87ms/step - accuracy: 0.9609 - loss: 0.4733   "
     ]
    },
    {
     "name": "stderr",
     "output_type": "stream",
     "text": [
      "I0000 00:00:1729003568.662576      71 device_compiler.h:188] Compiled cluster using XLA!  This line is logged at most once for the lifetime of the process.\n"
     ]
    },
    {
     "name": "stdout",
     "output_type": "stream",
     "text": [
      "\u001b[1m267/267\u001b[0m \u001b[32m━━━━━━━━━━━━━━━━━━━━\u001b[0m\u001b[37m\u001b[0m \u001b[1m101s\u001b[0m 186ms/step - accuracy: 0.9323 - loss: 0.2120 - val_accuracy: 0.9222 - val_loss: 0.2905\n",
      "Epoch 2/20\n",
      "\u001b[1m267/267\u001b[0m \u001b[32m━━━━━━━━━━━━━━━━━━━━\u001b[0m\u001b[37m\u001b[0m \u001b[1m21s\u001b[0m 77ms/step - accuracy: 0.9446 - loss: 0.1235 - val_accuracy: 0.9499 - val_loss: 0.1055\n",
      "Epoch 3/20\n",
      "\u001b[1m267/267\u001b[0m \u001b[32m━━━━━━━━━━━━━━━━━━━━\u001b[0m\u001b[37m\u001b[0m \u001b[1m21s\u001b[0m 77ms/step - accuracy: 0.9490 - loss: 0.1106 - val_accuracy: 0.9475 - val_loss: 0.1212\n",
      "Epoch 4/20\n",
      "\u001b[1m267/267\u001b[0m \u001b[32m━━━━━━━━━━━━━━━━━━━━\u001b[0m\u001b[37m\u001b[0m \u001b[1m21s\u001b[0m 77ms/step - accuracy: 0.9502 - loss: 0.1073 - val_accuracy: 0.9511 - val_loss: 0.1062\n",
      "Epoch 5/20\n",
      "\u001b[1m267/267\u001b[0m \u001b[32m━━━━━━━━━━━━━━━━━━━━\u001b[0m\u001b[37m\u001b[0m \u001b[1m21s\u001b[0m 77ms/step - accuracy: 0.9574 - loss: 0.0923 - val_accuracy: 0.9446 - val_loss: 0.1202\n",
      "Epoch 6/20\n",
      "\u001b[1m267/267\u001b[0m \u001b[32m━━━━━━━━━━━━━━━━━━━━\u001b[0m\u001b[37m\u001b[0m \u001b[1m21s\u001b[0m 77ms/step - accuracy: 0.9580 - loss: 0.0881 - val_accuracy: 0.9525 - val_loss: 0.0981\n",
      "Epoch 7/20\n",
      "\u001b[1m267/267\u001b[0m \u001b[32m━━━━━━━━━━━━━━━━━━━━\u001b[0m\u001b[37m\u001b[0m \u001b[1m21s\u001b[0m 77ms/step - accuracy: 0.9610 - loss: 0.0863 - val_accuracy: 0.9337 - val_loss: 0.2097\n",
      "Epoch 8/20\n",
      "\u001b[1m267/267\u001b[0m \u001b[32m━━━━━━━━━━━━━━━━━━━━\u001b[0m\u001b[37m\u001b[0m \u001b[1m21s\u001b[0m 77ms/step - accuracy: 0.9634 - loss: 0.0844 - val_accuracy: 0.9505 - val_loss: 0.1004\n",
      "Epoch 9/20\n",
      "\u001b[1m267/267\u001b[0m \u001b[32m━━━━━━━━━━━━━━━━━━━━\u001b[0m\u001b[37m\u001b[0m \u001b[1m21s\u001b[0m 77ms/step - accuracy: 0.9627 - loss: 0.0805 - val_accuracy: 0.9540 - val_loss: 0.1002\n",
      "Epoch 10/20\n",
      "\u001b[1m267/267\u001b[0m \u001b[32m━━━━━━━━━━━━━━━━━━━━\u001b[0m\u001b[37m\u001b[0m \u001b[1m21s\u001b[0m 77ms/step - accuracy: 0.9641 - loss: 0.0810 - val_accuracy: 0.9358 - val_loss: 0.2718\n",
      "Epoch 11/20\n",
      "\u001b[1m267/267\u001b[0m \u001b[32m━━━━━━━━━━━━━━━━━━━━\u001b[0m\u001b[37m\u001b[0m \u001b[1m21s\u001b[0m 77ms/step - accuracy: 0.9675 - loss: 0.0743 - val_accuracy: 0.9579 - val_loss: 0.1243\n",
      "Epoch 12/20\n",
      "\u001b[1m267/267\u001b[0m \u001b[32m━━━━━━━━━━━━━━━━━━━━\u001b[0m\u001b[37m\u001b[0m \u001b[1m21s\u001b[0m 77ms/step - accuracy: 0.9687 - loss: 0.0672 - val_accuracy: 0.9514 - val_loss: 0.1532\n",
      "Epoch 13/20\n",
      "\u001b[1m267/267\u001b[0m \u001b[32m━━━━━━━━━━━━━━━━━━━━\u001b[0m\u001b[37m\u001b[0m \u001b[1m21s\u001b[0m 77ms/step - accuracy: 0.9714 - loss: 0.0661 - val_accuracy: 0.9390 - val_loss: 0.1662\n",
      "Epoch 14/20\n",
      "\u001b[1m267/267\u001b[0m \u001b[32m━━━━━━━━━━━━━━━━━━━━\u001b[0m\u001b[37m\u001b[0m \u001b[1m21s\u001b[0m 77ms/step - accuracy: 0.9706 - loss: 0.0639 - val_accuracy: 0.9531 - val_loss: 0.1122\n",
      "Epoch 15/20\n",
      "\u001b[1m267/267\u001b[0m \u001b[32m━━━━━━━━━━━━━━━━━━━━\u001b[0m\u001b[37m\u001b[0m \u001b[1m21s\u001b[0m 77ms/step - accuracy: 0.9749 - loss: 0.0597 - val_accuracy: 0.9605 - val_loss: 0.0931\n",
      "Epoch 16/20\n",
      "\u001b[1m267/267\u001b[0m \u001b[32m━━━━━━━━━━━━━━━━━━━━\u001b[0m\u001b[37m\u001b[0m \u001b[1m21s\u001b[0m 77ms/step - accuracy: 0.9780 - loss: 0.0551 - val_accuracy: 0.9546 - val_loss: 0.1137\n",
      "Epoch 17/20\n",
      "\u001b[1m267/267\u001b[0m \u001b[32m━━━━━━━━━━━━━━━━━━━━\u001b[0m\u001b[37m\u001b[0m \u001b[1m21s\u001b[0m 77ms/step - accuracy: 0.9810 - loss: 0.0470 - val_accuracy: 0.9570 - val_loss: 0.1237\n",
      "Epoch 18/20\n",
      "\u001b[1m267/267\u001b[0m \u001b[32m━━━━━━━━━━━━━━━━━━━━\u001b[0m\u001b[37m\u001b[0m \u001b[1m21s\u001b[0m 77ms/step - accuracy: 0.9813 - loss: 0.0457 - val_accuracy: 0.9472 - val_loss: 0.1412\n",
      "Epoch 19/20\n",
      "\u001b[1m267/267\u001b[0m \u001b[32m━━━━━━━━━━━━━━━━━━━━\u001b[0m\u001b[37m\u001b[0m \u001b[1m21s\u001b[0m 77ms/step - accuracy: 0.9858 - loss: 0.0366 - val_accuracy: 0.9204 - val_loss: 0.1932\n",
      "Epoch 20/20\n",
      "\u001b[1m267/267\u001b[0m \u001b[32m━━━━━━━━━━━━━━━━━━━━\u001b[0m\u001b[37m\u001b[0m \u001b[1m21s\u001b[0m 77ms/step - accuracy: 0.9841 - loss: 0.0389 - val_accuracy: 0.9523 - val_loss: 0.1137\n"
     ]
    }
   ],
   "source": [
    "scs_history = scs_model.fit(train_image, train_label, \n",
    "                            epochs=20, batch_size=64,\n",
    "                            validation_data=(valid_image, valid_label))"
   ]
  },
  {
   "cell_type": "code",
   "execution_count": 15,
   "id": "b309bd06",
   "metadata": {
    "execution": {
     "iopub.execute_input": "2024-10-15T14:53:30.743385Z",
     "iopub.status.busy": "2024-10-15T14:53:30.737623Z",
     "iopub.status.idle": "2024-10-15T14:54:17.590280Z",
     "shell.execute_reply": "2024-10-15T14:54:17.589207Z"
    },
    "papermill": {
     "duration": 47.385703,
     "end_time": "2024-10-15T14:54:17.592785",
     "exception": false,
     "start_time": "2024-10-15T14:53:30.207082",
     "status": "completed"
    },
    "tags": []
   },
   "outputs": [
    {
     "name": "stderr",
     "output_type": "stream",
     "text": [
      "100%|██████████| 100/100 [00:44<00:00,  2.24it/s]\n"
     ]
    }
   ],
   "source": [
    "test_image, test_label = load_images(SagittalT2_path, 1200, 1300)"
   ]
  },
  {
   "cell_type": "code",
   "execution_count": 16,
   "id": "98450e04",
   "metadata": {
    "execution": {
     "iopub.execute_input": "2024-10-15T14:54:18.664509Z",
     "iopub.status.busy": "2024-10-15T14:54:18.664132Z",
     "iopub.status.idle": "2024-10-15T14:54:25.881723Z",
     "shell.execute_reply": "2024-10-15T14:54:25.880557Z"
    },
    "papermill": {
     "duration": 7.755004,
     "end_time": "2024-10-15T14:54:25.884239",
     "exception": false,
     "start_time": "2024-10-15T14:54:18.129235",
     "status": "completed"
    },
    "tags": []
   },
   "outputs": [
    {
     "name": "stdout",
     "output_type": "stream",
     "text": [
      "\u001b[1m55/55\u001b[0m \u001b[32m━━━━━━━━━━━━━━━━━━━━\u001b[0m\u001b[37m\u001b[0m \u001b[1m7s\u001b[0m 58ms/step\n"
     ]
    }
   ],
   "source": [
    "pred = scs_model.predict(test_image)\n",
    "ac = np.argmax(pred, axis=1)\n",
    "test = np.argmax(test_label, axis=1)"
   ]
  },
  {
   "cell_type": "code",
   "execution_count": 17,
   "id": "ce701f93",
   "metadata": {
    "execution": {
     "iopub.execute_input": "2024-10-15T14:54:27.008732Z",
     "iopub.status.busy": "2024-10-15T14:54:27.008017Z",
     "iopub.status.idle": "2024-10-15T14:54:28.447922Z",
     "shell.execute_reply": "2024-10-15T14:54:28.446963Z"
    },
    "papermill": {
     "duration": 1.974941,
     "end_time": "2024-10-15T14:54:28.450182",
     "exception": false,
     "start_time": "2024-10-15T14:54:26.475241",
     "status": "completed"
    },
    "tags": []
   },
   "outputs": [
    {
     "name": "stdout",
     "output_type": "stream",
     "text": [
      "tf.Tensor(0.9397936, shape=(), dtype=float32)\n",
      "tf.Tensor(1.1723702, shape=(), dtype=float32)\n"
     ]
    }
   ],
   "source": [
    "a = metrics.Accuracy()\n",
    "a.update_state(ac,test)\n",
    "print(a.result())\n",
    "\n",
    "l = metrics.BinaryCrossentropy()\n",
    "l.update_state(pred,test_label)\n",
    "print(l.result())"
   ]
  },
  {
   "cell_type": "code",
   "execution_count": 18,
   "id": "d4ffd8ff",
   "metadata": {
    "execution": {
     "iopub.execute_input": "2024-10-15T14:54:29.522026Z",
     "iopub.status.busy": "2024-10-15T14:54:29.521634Z",
     "iopub.status.idle": "2024-10-15T14:54:30.034701Z",
     "shell.execute_reply": "2024-10-15T14:54:30.033842Z"
    },
    "papermill": {
     "duration": 1.049241,
     "end_time": "2024-10-15T14:54:30.037135",
     "exception": false,
     "start_time": "2024-10-15T14:54:28.987894",
     "status": "completed"
    },
    "tags": []
   },
   "outputs": [],
   "source": [
    "scs_model.save('/kaggle/working/scs_extraction_model.h5')"
   ]
  }
 ],
 "metadata": {
  "kaggle": {
   "accelerator": "gpu",
   "dataSources": [
    {
     "databundleVersionId": 8561470,
     "sourceId": 71549,
     "sourceType": "competition"
    },
    {
     "sourceId": 186321915,
     "sourceType": "kernelVersion"
    }
   ],
   "dockerImageVersionId": 30762,
   "isGpuEnabled": true,
   "isInternetEnabled": true,
   "language": "python",
   "sourceType": "notebook"
  },
  "kernelspec": {
   "display_name": "Python 3",
   "language": "python",
   "name": "python3"
  },
  "language_info": {
   "codemirror_mode": {
    "name": "ipython",
    "version": 3
   },
   "file_extension": ".py",
   "mimetype": "text/x-python",
   "name": "python",
   "nbconvert_exporter": "python",
   "pygments_lexer": "ipython3",
   "version": "3.10.14"
  },
  "papermill": {
   "default_parameters": {},
   "duration": 1149.689283,
   "end_time": "2024-10-15T14:54:33.983792",
   "environment_variables": {},
   "exception": null,
   "input_path": "__notebook__.ipynb",
   "output_path": "__notebook__.ipynb",
   "parameters": {},
   "start_time": "2024-10-15T14:35:24.294509",
   "version": "2.6.0"
  }
 },
 "nbformat": 4,
 "nbformat_minor": 5
}
