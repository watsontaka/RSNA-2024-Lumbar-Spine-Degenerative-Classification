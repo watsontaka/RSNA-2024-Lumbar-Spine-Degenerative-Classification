{
 "cells": [
  {
   "cell_type": "code",
   "execution_count": 1,
   "id": "c6ad5e16",
   "metadata": {
    "execution": {
     "iopub.execute_input": "2024-10-15T14:34:39.329299Z",
     "iopub.status.busy": "2024-10-15T14:34:39.328896Z",
     "iopub.status.idle": "2024-10-15T14:34:53.455655Z",
     "shell.execute_reply": "2024-10-15T14:34:53.454730Z"
    },
    "papermill": {
     "duration": 14.136194,
     "end_time": "2024-10-15T14:34:53.457932",
     "exception": false,
     "start_time": "2024-10-15T14:34:39.321738",
     "status": "completed"
    },
    "tags": []
   },
   "outputs": [
    {
     "name": "stdout",
     "output_type": "stream",
     "text": [
      "Collecting natsort\r\n",
      "  Downloading natsort-8.4.0-py3-none-any.whl.metadata (21 kB)\r\n",
      "Downloading natsort-8.4.0-py3-none-any.whl (38 kB)\r\n",
      "Installing collected packages: natsort\r\n",
      "Successfully installed natsort-8.4.0\r\n"
     ]
    }
   ],
   "source": [
    "!pip3 install natsort"
   ]
  },
  {
   "cell_type": "code",
   "execution_count": 2,
   "id": "e7963e60",
   "metadata": {
    "execution": {
     "iopub.execute_input": "2024-10-15T14:34:53.470892Z",
     "iopub.status.busy": "2024-10-15T14:34:53.470598Z",
     "iopub.status.idle": "2024-10-15T14:35:07.949785Z",
     "shell.execute_reply": "2024-10-15T14:35:07.948832Z"
    },
    "papermill": {
     "duration": 14.488272,
     "end_time": "2024-10-15T14:35:07.952119",
     "exception": false,
     "start_time": "2024-10-15T14:34:53.463847",
     "status": "completed"
    },
    "tags": []
   },
   "outputs": [],
   "source": [
    "import numpy as np\n",
    "import pandas as pd\n",
    "import matplotlib.pyplot as plt\n",
    "from natsort import natsorted\n",
    "import os\n",
    "import glob\n",
    "import cv2\n",
    "import pydicom\n",
    "from tqdm import tqdm\n",
    "from sklearn.preprocessing import OneHotEncoder\n",
    "\n",
    "import tensorflow as tf\n",
    "from tensorflow.keras import *\n",
    "import tensorflow.keras.backend as K"
   ]
  },
  {
   "cell_type": "code",
   "execution_count": 3,
   "id": "0f9c5eb1",
   "metadata": {
    "execution": {
     "iopub.execute_input": "2024-10-15T14:35:07.964334Z",
     "iopub.status.busy": "2024-10-15T14:35:07.963795Z",
     "iopub.status.idle": "2024-10-15T14:35:08.161198Z",
     "shell.execute_reply": "2024-10-15T14:35:08.160386Z"
    },
    "papermill": {
     "duration": 0.205818,
     "end_time": "2024-10-15T14:35:08.163448",
     "exception": false,
     "start_time": "2024-10-15T14:35:07.957630",
     "status": "completed"
    },
    "tags": []
   },
   "outputs": [],
   "source": [
    "train = pd.read_csv('/kaggle/input/rsna-dataframe/train_data.csv')\n",
    "train = train.astype({'study_id':'str','series_id':'str','instance_number':'str'})\n",
    "train_des = pd.read_csv('/kaggle/input/rsna-dataframe/train_des.csv')\n",
    "train_des = train_des.astype({'study_id':'str','series_id':'str'})"
   ]
  },
  {
   "cell_type": "code",
   "execution_count": 4,
   "id": "957f1e81",
   "metadata": {
    "execution": {
     "iopub.execute_input": "2024-10-15T14:35:08.175988Z",
     "iopub.status.busy": "2024-10-15T14:35:08.175671Z",
     "iopub.status.idle": "2024-10-15T14:35:08.191319Z",
     "shell.execute_reply": "2024-10-15T14:35:08.190430Z"
    },
    "papermill": {
     "duration": 0.024088,
     "end_time": "2024-10-15T14:35:08.193129",
     "exception": false,
     "start_time": "2024-10-15T14:35:08.169041",
     "status": "completed"
    },
    "tags": []
   },
   "outputs": [
    {
     "data": {
      "text/html": [
       "<div>\n",
       "<style scoped>\n",
       "    .dataframe tbody tr th:only-of-type {\n",
       "        vertical-align: middle;\n",
       "    }\n",
       "\n",
       "    .dataframe tbody tr th {\n",
       "        vertical-align: top;\n",
       "    }\n",
       "\n",
       "    .dataframe thead th {\n",
       "        text-align: right;\n",
       "    }\n",
       "</style>\n",
       "<table border=\"1\" class=\"dataframe\">\n",
       "  <thead>\n",
       "    <tr style=\"text-align: right;\">\n",
       "      <th></th>\n",
       "      <th>study_id</th>\n",
       "      <th>series_id</th>\n",
       "      <th>series_description</th>\n",
       "    </tr>\n",
       "  </thead>\n",
       "  <tbody>\n",
       "    <tr>\n",
       "      <th>0</th>\n",
       "      <td>100206310</td>\n",
       "      <td>1792451510</td>\n",
       "      <td>Sagittal T2/STIR</td>\n",
       "    </tr>\n",
       "    <tr>\n",
       "      <th>1</th>\n",
       "      <td>100206310</td>\n",
       "      <td>2092806862</td>\n",
       "      <td>Sagittal T1</td>\n",
       "    </tr>\n",
       "    <tr>\n",
       "      <th>2</th>\n",
       "      <td>100206310</td>\n",
       "      <td>1012284084</td>\n",
       "      <td>Axial T2</td>\n",
       "    </tr>\n",
       "    <tr>\n",
       "      <th>3</th>\n",
       "      <td>1002894806</td>\n",
       "      <td>801316590</td>\n",
       "      <td>Sagittal T2/STIR</td>\n",
       "    </tr>\n",
       "    <tr>\n",
       "      <th>4</th>\n",
       "      <td>1002894806</td>\n",
       "      <td>866293114</td>\n",
       "      <td>Sagittal T1</td>\n",
       "    </tr>\n",
       "    <tr>\n",
       "      <th>...</th>\n",
       "      <td>...</td>\n",
       "      <td>...</td>\n",
       "      <td>...</td>\n",
       "    </tr>\n",
       "    <tr>\n",
       "      <th>5362</th>\n",
       "      <td>991428866</td>\n",
       "      <td>2954790819</td>\n",
       "      <td>Sagittal T1</td>\n",
       "    </tr>\n",
       "    <tr>\n",
       "      <th>5363</th>\n",
       "      <td>991428866</td>\n",
       "      <td>3160509931</td>\n",
       "      <td>Axial T2</td>\n",
       "    </tr>\n",
       "    <tr>\n",
       "      <th>5364</th>\n",
       "      <td>992674144</td>\n",
       "      <td>1576603050</td>\n",
       "      <td>Sagittal T2/STIR</td>\n",
       "    </tr>\n",
       "    <tr>\n",
       "      <th>5365</th>\n",
       "      <td>992674144</td>\n",
       "      <td>1814811290</td>\n",
       "      <td>Sagittal T1</td>\n",
       "    </tr>\n",
       "    <tr>\n",
       "      <th>5366</th>\n",
       "      <td>992674144</td>\n",
       "      <td>1614310972</td>\n",
       "      <td>Axial T2</td>\n",
       "    </tr>\n",
       "  </tbody>\n",
       "</table>\n",
       "<p>5367 rows × 3 columns</p>\n",
       "</div>"
      ],
      "text/plain": [
       "        study_id   series_id series_description\n",
       "0      100206310  1792451510   Sagittal T2/STIR\n",
       "1      100206310  2092806862        Sagittal T1\n",
       "2      100206310  1012284084           Axial T2\n",
       "3     1002894806   801316590   Sagittal T2/STIR\n",
       "4     1002894806   866293114        Sagittal T1\n",
       "...          ...         ...                ...\n",
       "5362   991428866  2954790819        Sagittal T1\n",
       "5363   991428866  3160509931           Axial T2\n",
       "5364   992674144  1576603050   Sagittal T2/STIR\n",
       "5365   992674144  1814811290        Sagittal T1\n",
       "5366   992674144  1614310972           Axial T2\n",
       "\n",
       "[5367 rows x 3 columns]"
      ]
     },
     "execution_count": 4,
     "metadata": {},
     "output_type": "execute_result"
    }
   ],
   "source": [
    "train_des"
   ]
  },
  {
   "cell_type": "code",
   "execution_count": 5,
   "id": "ac564c90",
   "metadata": {
    "execution": {
     "iopub.execute_input": "2024-10-15T14:35:08.205799Z",
     "iopub.status.busy": "2024-10-15T14:35:08.205516Z",
     "iopub.status.idle": "2024-10-15T14:35:08.213796Z",
     "shell.execute_reply": "2024-10-15T14:35:08.213100Z"
    },
    "papermill": {
     "duration": 0.01682,
     "end_time": "2024-10-15T14:35:08.215618",
     "exception": false,
     "start_time": "2024-10-15T14:35:08.198798",
     "status": "completed"
    },
    "tags": []
   },
   "outputs": [],
   "source": [
    "base_dir = '/kaggle/input/rsna-2024-lumbar-spine-degenerative-classification/train_images'\n",
    "AxialT2 = train_des[train_des['series_description']=='Axial T2'].reset_index(drop=True)\n",
    "AxialT2_path = base_dir + '/' + AxialT2['study_id'] + '/' + AxialT2['series_id'] + '/*.dcm'"
   ]
  },
  {
   "cell_type": "code",
   "execution_count": 6,
   "id": "bddd2a58",
   "metadata": {
    "execution": {
     "iopub.execute_input": "2024-10-15T14:35:08.227959Z",
     "iopub.status.busy": "2024-10-15T14:35:08.227423Z",
     "iopub.status.idle": "2024-10-15T14:35:08.236692Z",
     "shell.execute_reply": "2024-10-15T14:35:08.235862Z"
    },
    "papermill": {
     "duration": 0.017521,
     "end_time": "2024-10-15T14:35:08.238628",
     "exception": false,
     "start_time": "2024-10-15T14:35:08.221107",
     "status": "completed"
    },
    "tags": []
   },
   "outputs": [],
   "source": [
    "def load_images(dir_path, s=0, ends=100):\n",
    "    \n",
    "    images = []\n",
    "    path_list = []\n",
    "    \n",
    "    for p in tqdm(dir_path[s:ends]):\n",
    "        path = natsorted(glob.glob(p))\n",
    "        path_list += path\n",
    "        \n",
    "        for im in path:\n",
    "            dcm = pydicom.dcmread(im)\n",
    "            dcm = dcm.pixel_array\n",
    "            dcm = (dcm - dcm.min()) / (dcm.max() - dcm.min() + 1e-6)*255.0\n",
    "            nonzero = dcm[dcm > 0]\n",
    "            dcm = np.clip(dcm, 0, 2*np.std(nonzero)+np.mean(nonzero))\n",
    "            dcm = dcm / 255.0\n",
    "            dcm = cv2.resize(dcm,(224,224))\n",
    "            images.append(dcm)\n",
    "            \n",
    "    base_label = base_dir + '/' + train['study_id'] + '/' + train['series_id'] + '/' + train['instance_number']+'.dcm'\n",
    "    base_label = base_label.unique()\n",
    "    \n",
    "    labels = []\n",
    "    lens = len(path_list)\n",
    "    \n",
    "    for i in range(lens):\n",
    "        te = path_list[i] in base_label\n",
    "        labels.append(te)\n",
    "        \n",
    "    enc = OneHotEncoder(sparse_output=False)\n",
    "    label = enc.fit_transform(np.array(labels).reshape(-1,1))\n",
    "            \n",
    "    return np.array(images)[:,:,:,np.newaxis], label"
   ]
  },
  {
   "cell_type": "code",
   "execution_count": 7,
   "id": "18277997",
   "metadata": {
    "execution": {
     "iopub.execute_input": "2024-10-15T14:35:08.251012Z",
     "iopub.status.busy": "2024-10-15T14:35:08.250384Z",
     "iopub.status.idle": "2024-10-15T14:43:41.547189Z",
     "shell.execute_reply": "2024-10-15T14:43:41.546135Z"
    },
    "papermill": {
     "duration": 513.30551,
     "end_time": "2024-10-15T14:43:41.549657",
     "exception": false,
     "start_time": "2024-10-15T14:35:08.244147",
     "status": "completed"
    },
    "tags": []
   },
   "outputs": [
    {
     "name": "stderr",
     "output_type": "stream",
     "text": [
      "100%|██████████| 500/500 [06:45<00:00,  1.23it/s]\n",
      "100%|██████████| 100/100 [01:21<00:00,  1.22it/s]\n"
     ]
    }
   ],
   "source": [
    "train_image, train_label = load_images(AxialT2_path, 0, 500)\n",
    "valid_image, valid_label = load_images(AxialT2_path, 600,700)"
   ]
  },
  {
   "cell_type": "code",
   "execution_count": 8,
   "id": "4b929788",
   "metadata": {
    "execution": {
     "iopub.execute_input": "2024-10-15T14:43:41.654029Z",
     "iopub.status.busy": "2024-10-15T14:43:41.653691Z",
     "iopub.status.idle": "2024-10-15T14:43:41.665644Z",
     "shell.execute_reply": "2024-10-15T14:43:41.664768Z"
    },
    "papermill": {
     "duration": 0.065897,
     "end_time": "2024-10-15T14:43:41.667473",
     "exception": false,
     "start_time": "2024-10-15T14:43:41.601576",
     "status": "completed"
    },
    "tags": []
   },
   "outputs": [],
   "source": [
    "def dense_block(x, num_layers, growth_rate):\n",
    "    for i in range(num_layers):\n",
    "        # Bottleneck Layer\n",
    "        bn = layers.BatchNormalization()(x)\n",
    "        relu = layers.ReLU()(bn)\n",
    "        conv = layers.Conv2D(4 * growth_rate, (1, 1), padding='same', kernel_initializer='he_normal')(relu)\n",
    "\n",
    "        # Composite Function\n",
    "        bn = layers.BatchNormalization()(conv)\n",
    "        relu = layers.ReLU()(bn)\n",
    "        conv = layers.Conv2D(growth_rate, (3, 3), padding='same', kernel_initializer='he_normal')(relu)\n",
    "        \n",
    "        # Concatenate input with output of this layer\n",
    "        x = layers.Concatenate()([x, conv])\n",
    "    return x\n",
    "\n",
    "def transition_layer(x, reduction):\n",
    "    # Batch Normalization and ReLU\n",
    "    x = layers.BatchNormalization()(x)\n",
    "    x = layers.ReLU()(x)\n",
    "    \n",
    "    # 1x1 Convolution\n",
    "    num_filters = int(K.int_shape(x)[-1] * reduction)\n",
    "    x = layers.Conv2D(num_filters, (1, 1), padding='same', kernel_initializer='he_normal')(x)\n",
    "    \n",
    "    # Average Pooling\n",
    "    x = layers.AveragePooling2D((2, 2), strides=(2, 2))(x)\n",
    "    \n",
    "    return x\n",
    "\n",
    "def build_densenet(inputs, depth, growth_rate, reduction=0.5):\n",
    "    \n",
    "    # 初期コンボリューションレイヤー\n",
    "    x = layers.Conv2D(2 * growth_rate, (7, 7), strides=(2, 2), padding='same', kernel_initializer='he_normal')(inputs)\n",
    "    x = layers.BatchNormalization()(x)\n",
    "    x = layers.ReLU()(x)\n",
    "    x = layers.MaxPooling2D((3, 3), strides=(2, 2), padding='same')(x)\n",
    "    \n",
    "    # Dense BlockとTransition Layerの構築\n",
    "    num_dense_blocks = (depth - 4) // 6\n",
    "    for i in range(3):  # Typically, DenseNet has 3 dense blocks.\n",
    "        x = dense_block(x, num_dense_blocks, growth_rate)\n",
    "        if i != 2:  # 最後のDense Blockの後にTransition Layerは不要\n",
    "            x = transition_layer(x, reduction)\n",
    "    \n",
    "    # グローバル平均プーリングと全結合レイヤー\n",
    "    x = layers.BatchNormalization()(x)\n",
    "    x = layers.ReLU()(x)\n",
    "    x = layers.GlobalAveragePooling2D()(x)\n",
    "    \n",
    "    return x"
   ]
  },
  {
   "cell_type": "code",
   "execution_count": 9,
   "id": "c64c760b",
   "metadata": {
    "execution": {
     "iopub.execute_input": "2024-10-15T14:43:41.770893Z",
     "iopub.status.busy": "2024-10-15T14:43:41.770627Z",
     "iopub.status.idle": "2024-10-15T14:43:41.775650Z",
     "shell.execute_reply": "2024-10-15T14:43:41.774868Z"
    },
    "papermill": {
     "duration": 0.058492,
     "end_time": "2024-10-15T14:43:41.777503",
     "exception": false,
     "start_time": "2024-10-15T14:43:41.719011",
     "status": "completed"
    },
    "tags": []
   },
   "outputs": [],
   "source": [
    "def CNN_model(input_shape, num_classes, depth, growth_rate):\n",
    "    \n",
    "    inputs = Input(shape=input_shape)\n",
    "    x = build_densenet(inputs, depth, growth_rate)\n",
    "    \n",
    "    outputs = layers.Dense(num_classes, activation='sigmoid', name='output')(x)\n",
    "    model = models.Model(inputs=inputs, outputs=outputs)\n",
    "    \n",
    "    return model"
   ]
  },
  {
   "cell_type": "code",
   "execution_count": 10,
   "id": "f56cbe58",
   "metadata": {
    "execution": {
     "iopub.execute_input": "2024-10-15T14:43:41.880398Z",
     "iopub.status.busy": "2024-10-15T14:43:41.880126Z",
     "iopub.status.idle": "2024-10-15T14:43:41.884311Z",
     "shell.execute_reply": "2024-10-15T14:43:41.883486Z"
    },
    "papermill": {
     "duration": 0.057882,
     "end_time": "2024-10-15T14:43:41.886251",
     "exception": false,
     "start_time": "2024-10-15T14:43:41.828369",
     "status": "completed"
    },
    "tags": []
   },
   "outputs": [],
   "source": [
    "# モデルの構築\n",
    "input_shape = (224, 224, 1)  # 画像のサイズ\n",
    "num_classes = 2  # クラス数\n",
    "depth = 40  # ネットワークの深さ\n",
    "growth_rate = 12  # グロースレート"
   ]
  },
  {
   "cell_type": "code",
   "execution_count": 11,
   "id": "8ab19b01",
   "metadata": {
    "execution": {
     "iopub.execute_input": "2024-10-15T14:43:41.988926Z",
     "iopub.status.busy": "2024-10-15T14:43:41.988638Z",
     "iopub.status.idle": "2024-10-15T14:43:43.115562Z",
     "shell.execute_reply": "2024-10-15T14:43:43.114804Z"
    },
    "papermill": {
     "duration": 1.180637,
     "end_time": "2024-10-15T14:43:43.117833",
     "exception": false,
     "start_time": "2024-10-15T14:43:41.937196",
     "status": "completed"
    },
    "tags": []
   },
   "outputs": [],
   "source": [
    "ss_model = CNN_model(input_shape, num_classes, depth, growth_rate)\n",
    "ss_model.compile(optimizer='adam',loss='binary_crossentropy',metrics=['accuracy'])"
   ]
  },
  {
   "cell_type": "code",
   "execution_count": 12,
   "id": "dee805e4",
   "metadata": {
    "execution": {
     "iopub.execute_input": "2024-10-15T14:43:43.222813Z",
     "iopub.status.busy": "2024-10-15T14:43:43.222169Z",
     "iopub.status.idle": "2024-10-15T14:52:20.202414Z",
     "shell.execute_reply": "2024-10-15T14:52:20.201321Z"
    },
    "papermill": {
     "duration": 517.034525,
     "end_time": "2024-10-15T14:52:20.204804",
     "exception": false,
     "start_time": "2024-10-15T14:43:43.170279",
     "status": "completed"
    },
    "tags": []
   },
   "outputs": [
    {
     "name": "stdout",
     "output_type": "stream",
     "text": [
      "Epoch 1/20\n"
     ]
    },
    {
     "name": "stderr",
     "output_type": "stream",
     "text": [
      "WARNING: All log messages before absl::InitializeLog() is called are written to STDERR\n",
      "I0000 00:00:1729003457.211764      74 service.cc:145] XLA service 0x7fa7940029d0 initialized for platform CUDA (this does not guarantee that XLA will be used). Devices:\n",
      "I0000 00:00:1729003457.211857      74 service.cc:153]   StreamExecutor device (0): Tesla P100-PCIE-16GB, Compute Capability 6.0\n"
     ]
    },
    {
     "name": "stdout",
     "output_type": "stream",
     "text": [
      "\u001b[1m  2/280\u001b[0m \u001b[37m━━━━━━━━━━━━━━━━━━━━\u001b[0m \u001b[1m22s\u001b[0m 79ms/step - accuracy: 0.1445 - loss: 0.8073   "
     ]
    },
    {
     "name": "stderr",
     "output_type": "stream",
     "text": [
      "I0000 00:00:1729003484.217685      74 device_compiler.h:188] Compiled cluster using XLA!  This line is logged at most once for the lifetime of the process.\n"
     ]
    },
    {
     "name": "stdout",
     "output_type": "stream",
     "text": [
      "\u001b[1m280/280\u001b[0m \u001b[32m━━━━━━━━━━━━━━━━━━━━\u001b[0m\u001b[37m\u001b[0m \u001b[1m0s\u001b[0m 158ms/step - accuracy: 0.7885 - loss: 0.4648"
     ]
    },
    {
     "name": "stderr",
     "output_type": "stream",
     "text": [
      "WARNING: All log messages before absl::InitializeLog() is called are written to STDERR\n",
      "I0000 00:00:1729003528.149879      73 asm_compiler.cc:369] ptxas warning : Registers are spilled to local memory in function 'loop_add_multiply_reduce_subtract_fusion_2', 8 bytes spill stores, 8 bytes spill loads\n",
      "ptxas warning : Registers are spilled to local memory in function 'loop_add_multiply_reduce_subtract_fusion_10', 8 bytes spill stores, 8 bytes spill loads\n",
      "ptxas warning : Registers are spilled to local memory in function 'loop_add_multiply_reduce_subtract_fusion_4', 8 bytes spill stores, 8 bytes spill loads\n",
      "ptxas warning : Registers are spilled to local memory in function 'loop_add_multiply_reduce_subtract_fusion_8', 8 bytes spill stores, 8 bytes spill loads\n",
      "\n"
     ]
    },
    {
     "name": "stdout",
     "output_type": "stream",
     "text": [
      "\u001b[1m280/280\u001b[0m \u001b[32m━━━━━━━━━━━━━━━━━━━━\u001b[0m\u001b[37m\u001b[0m \u001b[1m101s\u001b[0m 187ms/step - accuracy: 0.7886 - loss: 0.4645 - val_accuracy: 0.8293 - val_loss: 0.6167\n",
      "Epoch 2/20\n",
      "\u001b[1m280/280\u001b[0m \u001b[32m━━━━━━━━━━━━━━━━━━━━\u001b[0m\u001b[37m\u001b[0m \u001b[1m24s\u001b[0m 75ms/step - accuracy: 0.8641 - loss: 0.3036 - val_accuracy: 0.8508 - val_loss: 0.3538\n",
      "Epoch 3/20\n",
      "\u001b[1m280/280\u001b[0m \u001b[32m━━━━━━━━━━━━━━━━━━━━\u001b[0m\u001b[37m\u001b[0m \u001b[1m21s\u001b[0m 75ms/step - accuracy: 0.8814 - loss: 0.2629 - val_accuracy: 0.8892 - val_loss: 0.2613\n",
      "Epoch 4/20\n",
      "\u001b[1m280/280\u001b[0m \u001b[32m━━━━━━━━━━━━━━━━━━━━\u001b[0m\u001b[37m\u001b[0m \u001b[1m21s\u001b[0m 75ms/step - accuracy: 0.8925 - loss: 0.2508 - val_accuracy: 0.8835 - val_loss: 0.2912\n",
      "Epoch 5/20\n",
      "\u001b[1m280/280\u001b[0m \u001b[32m━━━━━━━━━━━━━━━━━━━━\u001b[0m\u001b[37m\u001b[0m \u001b[1m21s\u001b[0m 75ms/step - accuracy: 0.8974 - loss: 0.2306 - val_accuracy: 0.8833 - val_loss: 0.2548\n",
      "Epoch 6/20\n",
      "\u001b[1m280/280\u001b[0m \u001b[32m━━━━━━━━━━━━━━━━━━━━\u001b[0m\u001b[37m\u001b[0m \u001b[1m21s\u001b[0m 75ms/step - accuracy: 0.9023 - loss: 0.2275 - val_accuracy: 0.8890 - val_loss: 0.2478\n",
      "Epoch 7/20\n",
      "\u001b[1m280/280\u001b[0m \u001b[32m━━━━━━━━━━━━━━━━━━━━\u001b[0m\u001b[37m\u001b[0m \u001b[1m21s\u001b[0m 75ms/step - accuracy: 0.9051 - loss: 0.2142 - val_accuracy: 0.8796 - val_loss: 0.2699\n",
      "Epoch 8/20\n",
      "\u001b[1m280/280\u001b[0m \u001b[32m━━━━━━━━━━━━━━━━━━━━\u001b[0m\u001b[37m\u001b[0m \u001b[1m21s\u001b[0m 75ms/step - accuracy: 0.9101 - loss: 0.2074 - val_accuracy: 0.6353 - val_loss: 0.9127\n",
      "Epoch 9/20\n",
      "\u001b[1m280/280\u001b[0m \u001b[32m━━━━━━━━━━━━━━━━━━━━\u001b[0m\u001b[37m\u001b[0m \u001b[1m21s\u001b[0m 75ms/step - accuracy: 0.9148 - loss: 0.1942 - val_accuracy: 0.8892 - val_loss: 0.3000\n",
      "Epoch 10/20\n",
      "\u001b[1m280/280\u001b[0m \u001b[32m━━━━━━━━━━━━━━━━━━━━\u001b[0m\u001b[37m\u001b[0m \u001b[1m21s\u001b[0m 75ms/step - accuracy: 0.9182 - loss: 0.1868 - val_accuracy: 0.8869 - val_loss: 0.2489\n",
      "Epoch 11/20\n",
      "\u001b[1m280/280\u001b[0m \u001b[32m━━━━━━━━━━━━━━━━━━━━\u001b[0m\u001b[37m\u001b[0m \u001b[1m21s\u001b[0m 75ms/step - accuracy: 0.9200 - loss: 0.1807 - val_accuracy: 0.8864 - val_loss: 0.2415\n",
      "Epoch 12/20\n",
      "\u001b[1m280/280\u001b[0m \u001b[32m━━━━━━━━━━━━━━━━━━━━\u001b[0m\u001b[37m\u001b[0m \u001b[1m21s\u001b[0m 75ms/step - accuracy: 0.9251 - loss: 0.1657 - val_accuracy: 0.7780 - val_loss: 0.5894\n",
      "Epoch 13/20\n",
      "\u001b[1m280/280\u001b[0m \u001b[32m━━━━━━━━━━━━━━━━━━━━\u001b[0m\u001b[37m\u001b[0m \u001b[1m21s\u001b[0m 75ms/step - accuracy: 0.9388 - loss: 0.1474 - val_accuracy: 0.8848 - val_loss: 0.2689\n",
      "Epoch 14/20\n",
      "\u001b[1m280/280\u001b[0m \u001b[32m━━━━━━━━━━━━━━━━━━━━\u001b[0m\u001b[37m\u001b[0m \u001b[1m21s\u001b[0m 75ms/step - accuracy: 0.9395 - loss: 0.1411 - val_accuracy: 0.8895 - val_loss: 0.3575\n",
      "Epoch 15/20\n",
      "\u001b[1m280/280\u001b[0m \u001b[32m━━━━━━━━━━━━━━━━━━━━\u001b[0m\u001b[37m\u001b[0m \u001b[1m21s\u001b[0m 76ms/step - accuracy: 0.9484 - loss: 0.1222 - val_accuracy: 0.8309 - val_loss: 0.4643\n",
      "Epoch 16/20\n",
      "\u001b[1m280/280\u001b[0m \u001b[32m━━━━━━━━━━━━━━━━━━━━\u001b[0m\u001b[37m\u001b[0m \u001b[1m21s\u001b[0m 76ms/step - accuracy: 0.9554 - loss: 0.1077 - val_accuracy: 0.8882 - val_loss: 0.3655\n",
      "Epoch 17/20\n",
      "\u001b[1m280/280\u001b[0m \u001b[32m━━━━━━━━━━━━━━━━━━━━\u001b[0m\u001b[37m\u001b[0m \u001b[1m21s\u001b[0m 76ms/step - accuracy: 0.9639 - loss: 0.0899 - val_accuracy: 0.8827 - val_loss: 0.3684\n",
      "Epoch 18/20\n",
      "\u001b[1m280/280\u001b[0m \u001b[32m━━━━━━━━━━━━━━━━━━━━\u001b[0m\u001b[37m\u001b[0m \u001b[1m21s\u001b[0m 75ms/step - accuracy: 0.9679 - loss: 0.0828 - val_accuracy: 0.8547 - val_loss: 0.3375\n",
      "Epoch 19/20\n",
      "\u001b[1m280/280\u001b[0m \u001b[32m━━━━━━━━━━━━━━━━━━━━\u001b[0m\u001b[37m\u001b[0m \u001b[1m21s\u001b[0m 76ms/step - accuracy: 0.9714 - loss: 0.0701 - val_accuracy: 0.8820 - val_loss: 0.5940\n",
      "Epoch 20/20\n",
      "\u001b[1m280/280\u001b[0m \u001b[32m━━━━━━━━━━━━━━━━━━━━\u001b[0m\u001b[37m\u001b[0m \u001b[1m21s\u001b[0m 76ms/step - accuracy: 0.9780 - loss: 0.0603 - val_accuracy: 0.8661 - val_loss: 0.4534\n"
     ]
    }
   ],
   "source": [
    "ss_history = ss_model.fit(train_image, train_label, \n",
    "                            epochs=20, batch_size=64,\n",
    "                            validation_data=(valid_image, valid_label))"
   ]
  },
  {
   "cell_type": "code",
   "execution_count": 13,
   "id": "f984218f",
   "metadata": {
    "execution": {
     "iopub.execute_input": "2024-10-15T14:52:21.251600Z",
     "iopub.status.busy": "2024-10-15T14:52:21.250879Z",
     "iopub.status.idle": "2024-10-15T14:53:34.852810Z",
     "shell.execute_reply": "2024-10-15T14:53:34.851991Z"
    },
    "papermill": {
     "duration": 74.14915,
     "end_time": "2024-10-15T14:53:34.855245",
     "exception": false,
     "start_time": "2024-10-15T14:52:20.706095",
     "status": "completed"
    },
    "tags": []
   },
   "outputs": [
    {
     "name": "stderr",
     "output_type": "stream",
     "text": [
      "100%|██████████| 100/100 [01:09<00:00,  1.45it/s]\n"
     ]
    }
   ],
   "source": [
    "test_image, test_label = load_images(AxialT2_path, 1200, 1300)"
   ]
  },
  {
   "cell_type": "code",
   "execution_count": 14,
   "id": "ec643245",
   "metadata": {
    "execution": {
     "iopub.execute_input": "2024-10-15T14:53:35.888088Z",
     "iopub.status.busy": "2024-10-15T14:53:35.887373Z",
     "iopub.status.idle": "2024-10-15T14:53:45.669336Z",
     "shell.execute_reply": "2024-10-15T14:53:45.668497Z"
    },
    "papermill": {
     "duration": 10.305008,
     "end_time": "2024-10-15T14:53:45.671538",
     "exception": false,
     "start_time": "2024-10-15T14:53:35.366530",
     "status": "completed"
    },
    "tags": []
   },
   "outputs": [
    {
     "name": "stdout",
     "output_type": "stream",
     "text": [
      "\u001b[1m115/115\u001b[0m \u001b[32m━━━━━━━━━━━━━━━━━━━━\u001b[0m\u001b[37m\u001b[0m \u001b[1m8s\u001b[0m 39ms/step\n"
     ]
    }
   ],
   "source": [
    "pred = ss_model.predict(test_image)\n",
    "ac = np.argmax(pred, axis=1)\n",
    "test = np.argmax(test_label, axis=1)"
   ]
  },
  {
   "cell_type": "code",
   "execution_count": 15,
   "id": "985e7726",
   "metadata": {
    "execution": {
     "iopub.execute_input": "2024-10-15T14:53:46.725424Z",
     "iopub.status.busy": "2024-10-15T14:53:46.724558Z",
     "iopub.status.idle": "2024-10-15T14:53:47.851962Z",
     "shell.execute_reply": "2024-10-15T14:53:47.850861Z"
    },
    "papermill": {
     "duration": 1.636136,
     "end_time": "2024-10-15T14:53:47.854072",
     "exception": false,
     "start_time": "2024-10-15T14:53:46.217936",
     "status": "completed"
    },
    "tags": []
   },
   "outputs": [
    {
     "name": "stdout",
     "output_type": "stream",
     "text": [
      "tf.Tensor(0.8628681, shape=(), dtype=float32)\n",
      "tf.Tensor(2.3957305, shape=(), dtype=float32)\n"
     ]
    }
   ],
   "source": [
    "a = metrics.Accuracy()\n",
    "a.update_state(ac,test)\n",
    "print(a.result())\n",
    "\n",
    "l = metrics.BinaryCrossentropy()\n",
    "l.update_state(pred,test_label)\n",
    "print(l.result())"
   ]
  },
  {
   "cell_type": "code",
   "execution_count": 16,
   "id": "b4fcf753",
   "metadata": {
    "execution": {
     "iopub.execute_input": "2024-10-15T14:53:48.874390Z",
     "iopub.status.busy": "2024-10-15T14:53:48.873966Z",
     "iopub.status.idle": "2024-10-15T14:53:49.318872Z",
     "shell.execute_reply": "2024-10-15T14:53:49.317958Z"
    },
    "papermill": {
     "duration": 0.957082,
     "end_time": "2024-10-15T14:53:49.321654",
     "exception": false,
     "start_time": "2024-10-15T14:53:48.364572",
     "status": "completed"
    },
    "tags": []
   },
   "outputs": [],
   "source": [
    "ss_model.save('/kaggle/working/ss_extraction_model.h5')"
   ]
  }
 ],
 "metadata": {
  "kaggle": {
   "accelerator": "gpu",
   "dataSources": [
    {
     "databundleVersionId": 8561470,
     "sourceId": 71549,
     "sourceType": "competition"
    },
    {
     "sourceId": 186321915,
     "sourceType": "kernelVersion"
    }
   ],
   "dockerImageVersionId": 30762,
   "isGpuEnabled": true,
   "isInternetEnabled": true,
   "language": "python",
   "sourceType": "notebook"
  },
  "kernelspec": {
   "display_name": "Python 3",
   "language": "python",
   "name": "python3"
  },
  "language_info": {
   "codemirror_mode": {
    "name": "ipython",
    "version": 3
   },
   "file_extension": ".py",
   "mimetype": "text/x-python",
   "name": "python",
   "nbconvert_exporter": "python",
   "pygments_lexer": "ipython3",
   "version": "3.10.14"
  },
  "papermill": {
   "default_parameters": {},
   "duration": 1157.228412,
   "end_time": "2024-10-15T14:53:53.789099",
   "environment_variables": {},
   "exception": null,
   "input_path": "__notebook__.ipynb",
   "output_path": "__notebook__.ipynb",
   "parameters": {},
   "start_time": "2024-10-15T14:34:36.560687",
   "version": "2.6.0"
  }
 },
 "nbformat": 4,
 "nbformat_minor": 5
}
